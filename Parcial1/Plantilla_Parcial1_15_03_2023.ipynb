{
  "nbformat": 4,
  "nbformat_minor": 0,
  "metadata": {
    "colab": {
      "provenance": [],
      "collapsed_sections": [
        "ISyW0eueiqcs",
        "W-O8pGa-9-L4",
        "agCI3a__-FLv",
        "4udN71qSlFSY",
        "Zo45m28txuv6",
        "-VKJg-3rx2KB",
        "4PWnsCdXyB5-",
        "U8c_uRTfyEy1",
        "RsT92pLMyHq9",
        "m5Nv_vA8yLD5",
        "Q3K2LaYqyOww",
        "RB-My6dEyQ-6",
        "LaaO4MTSyU0o",
        "6dRPXl9MybGJ",
        "HT4OC5f-lKAS",
        "m1rFashq-Qbo",
        "k9-1PgBUB4Nv",
        "hVSvO_hWlN2M",
        "fEVjGzDBlX5c",
        "t7AS2Qgola2s",
        "WNg8eSuCCTit",
        "FoJ4EHrGWYFP",
        "ypjhBXxLPHQh",
        "bpjwbMVbCm3S"
      ]
    },
    "kernelspec": {
      "name": "python3",
      "display_name": "Python 3"
    },
    "language_info": {
      "name": "python"
    }
  },
  "cells": [
    {
      "cell_type": "markdown",
      "source": [
        "## Código de honor"
      ],
      "metadata": {
        "id": "mgyay5ebidMQ"
      }
    },
    {
      "cell_type": "markdown",
      "source": [
        "“Al entregar la solución de este parcial, yo, <span style=\"color:red\"> Nicolás Klopstock</span> con código <span style=\"color:red\">202021352</span> me comprometo a no conversar durante el desarrollo de este examen con ninguna persona que no sea el profesor del curso, sobre aspectos relacionados con el parcial; tampoco utilizaré algún medio de comunicación por voz, texto o intercambio de archivos, para consultar o compartir con otros, información sobre el tema del parcial. Soy consciente y acepto las consecuencias que acarreará para mi desempeño académico cometer fraude en este parcial”."
      ],
      "metadata": {
        "id": "DzAS2NfVieuY"
      }
    },
    {
      "cell_type": "markdown",
      "source": [
        "# Desarrollo Parcial"
      ],
      "metadata": {
        "id": "wmCAJOgIijPM"
      }
    },
    {
      "cell_type": "markdown",
      "source": [
        "## Imports y carga de datos"
      ],
      "metadata": {
        "id": "ISyW0eueiqcs"
      }
    },
    {
      "cell_type": "code",
      "source": [
        "import numpy as np\n",
        "import pandas as pd\n",
        "import joblib\n",
        "import matplotlib.pyplot as plt\n",
        "import seaborn as sns\n",
        "\n",
        "from joblib import dump, load\n",
        "from sklearn.model_selection import train_test_split, GridSearchCV, RandomizedSearchCV\n",
        "from sklearn.preprocessing import StandardScaler\n",
        "from sklearn.preprocessing import LabelEncoder\n",
        "from sklearn.tree import DecisionTreeClassifier\n",
        "from sklearn.ensemble import RandomForestClassifier\n",
        "from sklearn.metrics import accuracy_score, confusion_matrix, ConfusionMatrixDisplay, precision_score, recall_score, f1_score\n",
        "from sklearn.cluster import KMeans, AgglomerativeClustering\n",
        "from sklearn.metrics import silhouette_samples, silhouette_score\n",
        "from scipy.cluster.hierarchy import dendrogram, linkage\n",
        "\n",
        "import scipy.stats as stats\n",
        "from sklearn import tree"
      ],
      "metadata": {
        "id": "TvwyD4BQitRq"
      },
      "execution_count": null,
      "outputs": []
    },
    {
      "cell_type": "code",
      "source": [
        "df = pd.read_csv('data/autos_alpes.csv', encoding=\"ISO-8859-1\", sep=',')\n",
        "df.head()"
      ],
      "metadata": {
        "id": "y-Bmueiriw6v",
        "colab": {
          "base_uri": "https://localhost:8080/"
        },
        "outputId": "b30dda30-ad84-4a6c-d8e8-47a934ca1170"
      },
      "execution_count": null,
      "outputs": [
        {
          "output_type": "execute_result",
          "data": {
            "text/plain": [
              "    uid product_id type  air_temperature  process_temperature  \\\n",
              "0  6586     M21445    M            301.5                310.5   \n",
              "1  3017     L50196    L            300.5                309.8   \n",
              "2  1704     M16563    M            298.1                307.8   \n",
              "3  8575     L55754    L            297.6                308.3   \n",
              "4  5444     M20303    M            303.0                312.7   \n",
              "\n",
              "   rotational_speed  torque  tool_wear  machine_failure  twf  hdf  pwf  osf  \\\n",
              "0            1600.0    32.8      205.0                0    0    0    0    0   \n",
              "1            1441.0    48.8      200.0                0    0    0    0    0   \n",
              "2            1636.0    36.7       51.0                0    0    0    0    0   \n",
              "3            1424.0    53.9      132.0                0    0    0    0    0   \n",
              "4            1426.0    46.8       99.0                0    0    0    0    0   \n",
              "\n",
              "   rnf  \n",
              "0    0  \n",
              "1    0  \n",
              "2    0  \n",
              "3    0  \n",
              "4    0  "
            ],
            "text/html": [
              "\n",
              "  <div id=\"df-ca494e47-9936-4186-984c-9c8e8dfa6b78\">\n",
              "    <div class=\"colab-df-container\">\n",
              "      <div>\n",
              "<style scoped>\n",
              "    .dataframe tbody tr th:only-of-type {\n",
              "        vertical-align: middle;\n",
              "    }\n",
              "\n",
              "    .dataframe tbody tr th {\n",
              "        vertical-align: top;\n",
              "    }\n",
              "\n",
              "    .dataframe thead th {\n",
              "        text-align: right;\n",
              "    }\n",
              "</style>\n",
              "<table border=\"1\" class=\"dataframe\">\n",
              "  <thead>\n",
              "    <tr style=\"text-align: right;\">\n",
              "      <th></th>\n",
              "      <th>uid</th>\n",
              "      <th>product_id</th>\n",
              "      <th>type</th>\n",
              "      <th>air_temperature</th>\n",
              "      <th>process_temperature</th>\n",
              "      <th>rotational_speed</th>\n",
              "      <th>torque</th>\n",
              "      <th>tool_wear</th>\n",
              "      <th>machine_failure</th>\n",
              "      <th>twf</th>\n",
              "      <th>hdf</th>\n",
              "      <th>pwf</th>\n",
              "      <th>osf</th>\n",
              "      <th>rnf</th>\n",
              "    </tr>\n",
              "  </thead>\n",
              "  <tbody>\n",
              "    <tr>\n",
              "      <th>0</th>\n",
              "      <td>6586</td>\n",
              "      <td>M21445</td>\n",
              "      <td>M</td>\n",
              "      <td>301.5</td>\n",
              "      <td>310.5</td>\n",
              "      <td>1600.0</td>\n",
              "      <td>32.8</td>\n",
              "      <td>205.0</td>\n",
              "      <td>0</td>\n",
              "      <td>0</td>\n",
              "      <td>0</td>\n",
              "      <td>0</td>\n",
              "      <td>0</td>\n",
              "      <td>0</td>\n",
              "    </tr>\n",
              "    <tr>\n",
              "      <th>1</th>\n",
              "      <td>3017</td>\n",
              "      <td>L50196</td>\n",
              "      <td>L</td>\n",
              "      <td>300.5</td>\n",
              "      <td>309.8</td>\n",
              "      <td>1441.0</td>\n",
              "      <td>48.8</td>\n",
              "      <td>200.0</td>\n",
              "      <td>0</td>\n",
              "      <td>0</td>\n",
              "      <td>0</td>\n",
              "      <td>0</td>\n",
              "      <td>0</td>\n",
              "      <td>0</td>\n",
              "    </tr>\n",
              "    <tr>\n",
              "      <th>2</th>\n",
              "      <td>1704</td>\n",
              "      <td>M16563</td>\n",
              "      <td>M</td>\n",
              "      <td>298.1</td>\n",
              "      <td>307.8</td>\n",
              "      <td>1636.0</td>\n",
              "      <td>36.7</td>\n",
              "      <td>51.0</td>\n",
              "      <td>0</td>\n",
              "      <td>0</td>\n",
              "      <td>0</td>\n",
              "      <td>0</td>\n",
              "      <td>0</td>\n",
              "      <td>0</td>\n",
              "    </tr>\n",
              "    <tr>\n",
              "      <th>3</th>\n",
              "      <td>8575</td>\n",
              "      <td>L55754</td>\n",
              "      <td>L</td>\n",
              "      <td>297.6</td>\n",
              "      <td>308.3</td>\n",
              "      <td>1424.0</td>\n",
              "      <td>53.9</td>\n",
              "      <td>132.0</td>\n",
              "      <td>0</td>\n",
              "      <td>0</td>\n",
              "      <td>0</td>\n",
              "      <td>0</td>\n",
              "      <td>0</td>\n",
              "      <td>0</td>\n",
              "    </tr>\n",
              "    <tr>\n",
              "      <th>4</th>\n",
              "      <td>5444</td>\n",
              "      <td>M20303</td>\n",
              "      <td>M</td>\n",
              "      <td>303.0</td>\n",
              "      <td>312.7</td>\n",
              "      <td>1426.0</td>\n",
              "      <td>46.8</td>\n",
              "      <td>99.0</td>\n",
              "      <td>0</td>\n",
              "      <td>0</td>\n",
              "      <td>0</td>\n",
              "      <td>0</td>\n",
              "      <td>0</td>\n",
              "      <td>0</td>\n",
              "    </tr>\n",
              "  </tbody>\n",
              "</table>\n",
              "</div>\n",
              "      <button class=\"colab-df-convert\" onclick=\"convertToInteractive('df-ca494e47-9936-4186-984c-9c8e8dfa6b78')\"\n",
              "              title=\"Convert this dataframe to an interactive table.\"\n",
              "              style=\"display:none;\">\n",
              "        \n",
              "  <svg xmlns=\"http://www.w3.org/2000/svg\" height=\"24px\"viewBox=\"0 0 24 24\"\n",
              "       width=\"24px\">\n",
              "    <path d=\"M0 0h24v24H0V0z\" fill=\"none\"/>\n",
              "    <path d=\"M18.56 5.44l.94 2.06.94-2.06 2.06-.94-2.06-.94-.94-2.06-.94 2.06-2.06.94zm-11 1L8.5 8.5l.94-2.06 2.06-.94-2.06-.94L8.5 2.5l-.94 2.06-2.06.94zm10 10l.94 2.06.94-2.06 2.06-.94-2.06-.94-.94-2.06-.94 2.06-2.06.94z\"/><path d=\"M17.41 7.96l-1.37-1.37c-.4-.4-.92-.59-1.43-.59-.52 0-1.04.2-1.43.59L10.3 9.45l-7.72 7.72c-.78.78-.78 2.05 0 2.83L4 21.41c.39.39.9.59 1.41.59.51 0 1.02-.2 1.41-.59l7.78-7.78 2.81-2.81c.8-.78.8-2.07 0-2.86zM5.41 20L4 18.59l7.72-7.72 1.47 1.35L5.41 20z\"/>\n",
              "  </svg>\n",
              "      </button>\n",
              "      \n",
              "  <style>\n",
              "    .colab-df-container {\n",
              "      display:flex;\n",
              "      flex-wrap:wrap;\n",
              "      gap: 12px;\n",
              "    }\n",
              "\n",
              "    .colab-df-convert {\n",
              "      background-color: #E8F0FE;\n",
              "      border: none;\n",
              "      border-radius: 50%;\n",
              "      cursor: pointer;\n",
              "      display: none;\n",
              "      fill: #1967D2;\n",
              "      height: 32px;\n",
              "      padding: 0 0 0 0;\n",
              "      width: 32px;\n",
              "    }\n",
              "\n",
              "    .colab-df-convert:hover {\n",
              "      background-color: #E2EBFA;\n",
              "      box-shadow: 0px 1px 2px rgba(60, 64, 67, 0.3), 0px 1px 3px 1px rgba(60, 64, 67, 0.15);\n",
              "      fill: #174EA6;\n",
              "    }\n",
              "\n",
              "    [theme=dark] .colab-df-convert {\n",
              "      background-color: #3B4455;\n",
              "      fill: #D2E3FC;\n",
              "    }\n",
              "\n",
              "    [theme=dark] .colab-df-convert:hover {\n",
              "      background-color: #434B5C;\n",
              "      box-shadow: 0px 1px 3px 1px rgba(0, 0, 0, 0.15);\n",
              "      filter: drop-shadow(0px 1px 2px rgba(0, 0, 0, 0.3));\n",
              "      fill: #FFFFFF;\n",
              "    }\n",
              "  </style>\n",
              "\n",
              "      <script>\n",
              "        const buttonEl =\n",
              "          document.querySelector('#df-ca494e47-9936-4186-984c-9c8e8dfa6b78 button.colab-df-convert');\n",
              "        buttonEl.style.display =\n",
              "          google.colab.kernel.accessAllowed ? 'block' : 'none';\n",
              "\n",
              "        async function convertToInteractive(key) {\n",
              "          const element = document.querySelector('#df-ca494e47-9936-4186-984c-9c8e8dfa6b78');\n",
              "          const dataTable =\n",
              "            await google.colab.kernel.invokeFunction('convertToInteractive',\n",
              "                                                     [key], {});\n",
              "          if (!dataTable) return;\n",
              "\n",
              "          const docLinkHtml = 'Like what you see? Visit the ' +\n",
              "            '<a target=\"_blank\" href=https://colab.research.google.com/notebooks/data_table.ipynb>data table notebook</a>'\n",
              "            + ' to learn more about interactive tables.';\n",
              "          element.innerHTML = '';\n",
              "          dataTable['output_type'] = 'display_data';\n",
              "          await google.colab.output.renderOutput(dataTable, element);\n",
              "          const docLink = document.createElement('div');\n",
              "          docLink.innerHTML = docLinkHtml;\n",
              "          element.appendChild(docLink);\n",
              "        }\n",
              "      </script>\n",
              "    </div>\n",
              "  </div>\n",
              "  "
            ]
          },
          "metadata": {},
          "execution_count": 2
        }
      ]
    },
    {
      "cell_type": "markdown",
      "source": [
        "## 1. Enfoque Analítico"
      ],
      "metadata": {
        "id": "W-O8pGa-9-L4"
      }
    },
    {
      "cell_type": "markdown",
      "source": [
        "El enfoque análitico que le daremos al ejercicio de consultoría es el siguiente. Primero, se va valorar la calidad de los datos y analizarlos según sus valores y reglas del negocio. Los valores que se salgan del rango establecido para la muestra de datos, (dependiendo su porcentaje) se ajustarán para que lo cumplan, se corregirán los valores String que no correspondan a los definidos para la muestra y se hará un *encoding* de los valores de las variables categóricas.\n",
        "\n",
        "Una vez corregidos los datos, se va a elegir la variable objetivo (*machine_failures*). Luego, se va a revisar la correlación entre cada *feature* elegida, para entender cuales -tal vez- no son tan necesarias o su efecto se ve reflejado en otra variable.\n",
        "\n",
        "Finalmente, se va a entrenar un modelo de aprendizaje supervisado de clasificación. Se clasifica como supervisado, porque le estamos dando las características que tienen que tener en cuenta al momento de clasificar. Este modelo se va a entrenar usando datos de entrenamiento que nos ayudan a predecir sobre datos de prueba. Los modelos están orientados a dos algoritmos de clasificación: Árbol de Decisión y Bosque de Árboles de Decisión. Para cada uno, analizaremos sus métricas y veremos cuál nos da un modelo más generalizado para posibles datos de prueba futuros."
      ],
      "metadata": {
        "id": "-K2BUUWw-VwF"
      }
    },
    {
      "cell_type": "markdown",
      "source": [
        "## 2. Análisis exploratorio y de calidad de datos"
      ],
      "metadata": {
        "id": "agCI3a__-FLv"
      }
    },
    {
      "cell_type": "markdown",
      "source": [
        "### Limpieza y revisión de datos"
      ],
      "metadata": {
        "id": "4udN71qSlFSY"
      }
    },
    {
      "cell_type": "markdown",
      "source": [
        "Para empezar a entender los datos, debemos revisar el tamaño total de los mismos, además de sus tipos."
      ],
      "metadata": {
        "id": "7A5d4UepIv-y"
      }
    },
    {
      "cell_type": "code",
      "source": [
        "df.shape"
      ],
      "metadata": {
        "colab": {
          "base_uri": "https://localhost:8080/"
        },
        "id": "8oWetTDkI1zS",
        "outputId": "7037ff1d-93fb-4ca4-f9af-a12c07a6ddb9"
      },
      "execution_count": null,
      "outputs": [
        {
          "output_type": "execute_result",
          "data": {
            "text/plain": [
              "(1305, 14)"
            ]
          },
          "metadata": {},
          "execution_count": 3
        }
      ]
    },
    {
      "cell_type": "code",
      "source": [
        "df.dtypes"
      ],
      "metadata": {
        "colab": {
          "base_uri": "https://localhost:8080/"
        },
        "id": "IFwpgqDoI3XL",
        "outputId": "1daadc2b-b422-49ab-c776-4dfd46484a19"
      },
      "execution_count": null,
      "outputs": [
        {
          "output_type": "execute_result",
          "data": {
            "text/plain": [
              "uid                      int64\n",
              "product_id              object\n",
              "type                    object\n",
              "air_temperature        float64\n",
              "process_temperature    float64\n",
              "rotational_speed       float64\n",
              "torque                 float64\n",
              "tool_wear              float64\n",
              "machine_failure          int64\n",
              "twf                      int64\n",
              "hdf                      int64\n",
              "pwf                      int64\n",
              "osf                      int64\n",
              "rnf                      int64\n",
              "dtype: object"
            ]
          },
          "metadata": {},
          "execution_count": 4
        }
      ]
    },
    {
      "cell_type": "markdown",
      "source": [
        "Ahora, se revisa el porcentaje de valores nulos de cada columna del DataFrame."
      ],
      "metadata": {
        "id": "WzN72elelglX"
      }
    },
    {
      "cell_type": "code",
      "source": [
        "(df.isnull().sum() / df.shape[0]).sort_values(ascending=False)"
      ],
      "metadata": {
        "colab": {
          "base_uri": "https://localhost:8080/"
        },
        "id": "gGbirfeHlgJH",
        "outputId": "4bbdddef-c1e2-48f3-ff2f-a22d01e64004"
      },
      "execution_count": null,
      "outputs": [
        {
          "output_type": "execute_result",
          "data": {
            "text/plain": [
              "process_temperature    0.055939\n",
              "air_temperature        0.052107\n",
              "rotational_speed       0.049042\n",
              "tool_wear              0.047510\n",
              "torque                 0.045977\n",
              "type                   0.007663\n",
              "uid                    0.000000\n",
              "product_id             0.000000\n",
              "machine_failure        0.000000\n",
              "twf                    0.000000\n",
              "hdf                    0.000000\n",
              "pwf                    0.000000\n",
              "osf                    0.000000\n",
              "rnf                    0.000000\n",
              "dtype: float64"
            ]
          },
          "metadata": {},
          "execution_count": 5
        }
      ]
    },
    {
      "cell_type": "markdown",
      "source": [
        "Se van a examinar los diferentes datos de cada columna, para revisar si hubo errores en la toma de los mismos (errores de formato y/o rango)."
      ],
      "metadata": {
        "id": "NC1Rhud4lr3V"
      }
    },
    {
      "cell_type": "markdown",
      "source": [
        "#### UID"
      ],
      "metadata": {
        "id": "Zo45m28txuv6"
      }
    },
    {
      "cell_type": "code",
      "source": [
        "df['uid'].unique()"
      ],
      "metadata": {
        "colab": {
          "base_uri": "https://localhost:8080/"
        },
        "id": "NNemtjFQlrdy",
        "outputId": "fb611932-d53f-41ed-ab69-53e673bc08b8"
      },
      "execution_count": null,
      "outputs": [
        {
          "output_type": "execute_result",
          "data": {
            "text/plain": [
              "array([6586, 3017, 1704, ..., 9823, 9831, 9975])"
            ]
          },
          "metadata": {},
          "execution_count": 6
        }
      ]
    },
    {
      "cell_type": "markdown",
      "source": [
        "#### Producto ID"
      ],
      "metadata": {
        "id": "-VKJg-3rx2KB"
      }
    },
    {
      "cell_type": "code",
      "source": [
        "df['product_id'].unique()"
      ],
      "metadata": {
        "colab": {
          "base_uri": "https://localhost:8080/"
        },
        "id": "FbXcis8hmicL",
        "outputId": "77a4ec8e-ff36-4b61-d7da-a707e19527fb"
      },
      "execution_count": null,
      "outputs": [
        {
          "output_type": "execute_result",
          "data": {
            "text/plain": [
              "array(['M21445', 'L50196', 'M16563', ..., 'L57002', 'L57010', 'L57154'],\n",
              "      dtype=object)"
            ]
          },
          "metadata": {},
          "execution_count": 7
        }
      ]
    },
    {
      "cell_type": "markdown",
      "source": [
        "#### Type"
      ],
      "metadata": {
        "id": "4PWnsCdXyB5-"
      }
    },
    {
      "cell_type": "code",
      "source": [
        "df['type'].unique()"
      ],
      "metadata": {
        "colab": {
          "base_uri": "https://localhost:8080/"
        },
        "id": "7bSuFuG-mmJo",
        "outputId": "362d2849-9d0a-4c1a-9a62-17b0be6e698b"
      },
      "execution_count": null,
      "outputs": [
        {
          "output_type": "execute_result",
          "data": {
            "text/plain": [
              "array(['M', 'L', 'H', nan, 'h', 'l', 'm', 'mm'], dtype=object)"
            ]
          },
          "metadata": {},
          "execution_count": 8
        }
      ]
    },
    {
      "cell_type": "markdown",
      "source": [
        "Hay que reemplazar varios valores en formatos diferentes al esperado"
      ],
      "metadata": {
        "id": "nTviJdbRG7vZ"
      }
    },
    {
      "cell_type": "code",
      "source": [
        "type_mode = df['type'].mode()[0]\n",
        "df['type'] = df['type'].replace(['h', 'l', 'm', 'mm'], ['H', 'L', 'M', 'M'])\n",
        "df['type'].fillna(type_mode, inplace=True)"
      ],
      "metadata": {
        "id": "2mrHAmd8G_c1"
      },
      "execution_count": null,
      "outputs": []
    },
    {
      "cell_type": "code",
      "source": [
        "df['type'].unique()"
      ],
      "metadata": {
        "colab": {
          "base_uri": "https://localhost:8080/"
        },
        "id": "poUd7c12HL-B",
        "outputId": "793bae85-d8b3-43c7-dfcf-af6274ef6d17"
      },
      "execution_count": null,
      "outputs": [
        {
          "output_type": "execute_result",
          "data": {
            "text/plain": [
              "array(['M', 'L', 'H'], dtype=object)"
            ]
          },
          "metadata": {},
          "execution_count": 10
        }
      ]
    },
    {
      "cell_type": "code",
      "source": [
        "# Hacer un encoding de los valores la columna 'type'.\n",
        "le = LabelEncoder()\n",
        "df['type'] = le.fit_transform(df['type'])\n",
        "df['type'].unique()"
      ],
      "metadata": {
        "colab": {
          "base_uri": "https://localhost:8080/"
        },
        "id": "3Euh1QE4GrUz",
        "outputId": "e0e3181c-a14c-4988-d375-b5aa94fd7f0b"
      },
      "execution_count": null,
      "outputs": [
        {
          "output_type": "execute_result",
          "data": {
            "text/plain": [
              "array([2, 1, 0])"
            ]
          },
          "metadata": {},
          "execution_count": 11
        }
      ]
    },
    {
      "cell_type": "code",
      "source": [
        "df['type'].value_counts().plot(kind='pie', autopct='%1.1f%%')"
      ],
      "metadata": {
        "colab": {
          "base_uri": "https://localhost:8080/"
        },
        "id": "FmQmj1hLx6Ik",
        "outputId": "409eabae-b92f-4433-d1b2-c2bc5dc08a08"
      },
      "execution_count": null,
      "outputs": [
        {
          "output_type": "execute_result",
          "data": {
            "text/plain": [
              "<Axes: ylabel='type'>"
            ]
          },
          "metadata": {},
          "execution_count": 12
        },
        {
          "output_type": "display_data",
          "data": {
            "text/plain": [
              "<Figure size 432x288 with 1 Axes>"
            ],
            "image/png": "[encoded data removed]"
          },
          "metadata": {}
        }
      ]
    },
    {
      "cell_type": "code",
      "source": [
        "df['type'].describe()"
      ],
      "metadata": {
        "colab": {
          "base_uri": "https://localhost:8080/"
        },
        "id": "Ro04Wv85GXu6",
        "outputId": "d23d483e-6cc2-498c-b184-8cf318e5ab1e"
      },
      "execution_count": null,
      "outputs": [
        {
          "output_type": "execute_result",
          "data": {
            "text/plain": [
              "count    1305.000000\n",
              "mean        1.183908\n",
              "std         0.579469\n",
              "min         0.000000\n",
              "25%         1.000000\n",
              "50%         1.000000\n",
              "75%         2.000000\n",
              "max         2.000000\n",
              "Name: type, dtype: float64"
            ]
          },
          "metadata": {},
          "execution_count": 13
        }
      ]
    },
    {
      "cell_type": "code",
      "source": [
        "process_mode = df['type'].mode()[0]\n",
        "process_mode"
      ],
      "metadata": {
        "colab": {
          "base_uri": "https://localhost:8080/"
        },
        "id": "3tilCQO2GVky",
        "outputId": "207a9fee-0a3f-4e25-cb17-358b4f70c27e"
      },
      "execution_count": null,
      "outputs": [
        {
          "output_type": "execute_result",
          "data": {
            "text/plain": [
              "1"
            ]
          },
          "metadata": {},
          "execution_count": 14
        }
      ]
    },
    {
      "cell_type": "markdown",
      "source": [
        "La media y la moda son estadísticamente iguales, podemos usar cualquiera de las dos."
      ],
      "metadata": {
        "id": "IABiZ4K4Gd-k"
      }
    },
    {
      "cell_type": "code",
      "source": [
        "df['type'].fillna(process_mode, inplace=True)"
      ],
      "metadata": {
        "id": "t_K7BJwSGaGu"
      },
      "execution_count": null,
      "outputs": []
    },
    {
      "cell_type": "code",
      "source": [
        "df['type'].isnull().sum()"
      ],
      "metadata": {
        "colab": {
          "base_uri": "https://localhost:8080/"
        },
        "id": "65q0tZScGbvF",
        "outputId": "daeeba87-ff82-412f-8ae2-1b39add74b72"
      },
      "execution_count": null,
      "outputs": [
        {
          "output_type": "execute_result",
          "data": {
            "text/plain": [
              "0"
            ]
          },
          "metadata": {},
          "execution_count": 16
        }
      ]
    },
    {
      "cell_type": "code",
      "source": [
        "df['type'].value_counts().plot(kind='pie', autopct='%1.1f%%')"
      ],
      "metadata": {
        "colab": {
          "base_uri": "https://localhost:8080/"
        },
        "id": "F5EUtrbmHYg-",
        "outputId": "13f72c23-61ce-44dd-d788-809e94ea05a5"
      },
      "execution_count": null,
      "outputs": [
        {
          "output_type": "execute_result",
          "data": {
            "text/plain": [
              "<Axes: ylabel='type'>"
            ]
          },
          "metadata": {},
          "execution_count": 17
        },
        {
          "output_type": "display_data",
          "data": {
            "text/plain": [
              "<Figure size 432x288 with 1 Axes>"
            ],
            "image/png": "[encoded data removed]"
          },
          "metadata": {}
        }
      ]
    },
    {
      "cell_type": "markdown",
      "source": [
        "#### Air Temperature"
      ],
      "metadata": {
        "id": "U8c_uRTfyEy1"
      }
    },
    {
      "cell_type": "code",
      "source": [
        "df['air_temperature'].unique()"
      ],
      "metadata": {
        "colab": {
          "base_uri": "https://localhost:8080/"
        },
        "id": "bGxtQPz7mogR",
        "outputId": "e9c32474-9ba8-4425-b414-278abfb21901"
      },
      "execution_count": null,
      "outputs": [
        {
          "output_type": "execute_result",
          "data": {
            "text/plain": [
              "array([ 301.5,  300.5,  298.1,  297.6,  303. ,  297.4,  300.7,  297.3,\n",
              "        300.9,  301.6,  301. ,  296.1,    nan,  301.1,  298.7,  300.4,\n",
              "        298.2,  296.7,  297.9,  296.4,  303.6,  298. ,  299.1,  299.4,\n",
              "        297.5,  300.2,  295.6,  297.8,  300.3,  298.8,  302.3,  299.2,\n",
              "        297.7,  296.2,  302.6,  299.5,  300.8,  300.6,  303.8,  301.2,\n",
              "        300.1,  304. ,  302.4,  298.6,  302.2,  299.8,  302.1,  301.9,\n",
              "        298.5,  303.4,  302.5,  299.9,  304.2,  301.3,  298.4,  301.8,\n",
              "        298.3,  296.8,  303.1,  302.7,  303.7,  295.9,  298.9,  297.1,\n",
              "        299.3,  303.2,  299. ,  302. ,  296.6,  299.6,  301.7,  302.8,\n",
              "        302.9,  300. ,  297.2,  296.9,  297. ,  301.4,  295.8,  303.5,\n",
              "        295.7,  299.7,  304.1,  296. ,  296.5,  295.5,  303.9,  303.3,\n",
              "        296.3, -299.2,  295.4, -298.1,  304.4])"
            ]
          },
          "metadata": {},
          "execution_count": 18
        }
      ]
    },
    {
      "cell_type": "markdown",
      "source": [
        "Hay un valor fuera del rango (es negativo)."
      ],
      "metadata": {
        "id": "KUG0mhL7KmY_"
      }
    },
    {
      "cell_type": "code",
      "source": [
        "df['air_temperature'] = df['air_temperature'].abs()"
      ],
      "metadata": {
        "id": "Ybqyx7zDKpHN"
      },
      "execution_count": null,
      "outputs": []
    },
    {
      "cell_type": "code",
      "source": [
        "df['air_temperature'].plot.hist()"
      ],
      "metadata": {
        "colab": {
          "base_uri": "https://localhost:8080/"
        },
        "id": "ulnp_WaIyjaf",
        "outputId": "180aa07a-31ca-4f31-a14a-a253cdcae814"
      },
      "execution_count": null,
      "outputs": [
        {
          "output_type": "execute_result",
          "data": {
            "text/plain": [
              "<Axes: ylabel='Frequency'>"
            ]
          },
          "metadata": {},
          "execution_count": 20
        },
        {
          "output_type": "display_data",
          "data": {
            "text/plain": [
              "<Figure size 432x288 with 1 Axes>"
            ],
            "image/png": "[encoded data removed]"
          },
          "metadata": {
            "needs_background": "light"
          }
        }
      ]
    },
    {
      "cell_type": "code",
      "source": [
        "df['air_temperature'].describe()"
      ],
      "metadata": {
        "colab": {
          "base_uri": "https://localhost:8080/"
        },
        "id": "dd6K9AdyEnSU",
        "outputId": "56d862a5-4d90-495e-bad6-6de973ac30fa"
      },
      "execution_count": null,
      "outputs": [
        {
          "output_type": "execute_result",
          "data": {
            "text/plain": [
              "count    1237.000000\n",
              "mean      300.234923\n",
              "std         2.047374\n",
              "min       295.400000\n",
              "25%       298.600000\n",
              "50%       300.400000\n",
              "75%       301.900000\n",
              "max       304.400000\n",
              "Name: air_temperature, dtype: float64"
            ]
          },
          "metadata": {},
          "execution_count": 21
        }
      ]
    },
    {
      "cell_type": "code",
      "source": [
        "process_mode = df['air_temperature'].mode()[0]\n",
        "process_mode"
      ],
      "metadata": {
        "colab": {
          "base_uri": "https://localhost:8080/"
        },
        "id": "o7xnqUG3EpQG",
        "outputId": "1f608b52-c40f-4621-9c50-0b725d499674"
      },
      "execution_count": null,
      "outputs": [
        {
          "output_type": "execute_result",
          "data": {
            "text/plain": [
              "298.8"
            ]
          },
          "metadata": {},
          "execution_count": 22
        }
      ]
    },
    {
      "cell_type": "markdown",
      "source": [
        "La media y la moda son estadísticamente iguales, podemos usar cualquiera de las dos."
      ],
      "metadata": {
        "id": "hAUPBEYYE2Cc"
      }
    },
    {
      "cell_type": "code",
      "source": [
        "df['air_temperature'].fillna(process_mode, inplace=True)"
      ],
      "metadata": {
        "id": "UT82naPxErvK"
      },
      "execution_count": null,
      "outputs": []
    },
    {
      "cell_type": "code",
      "source": [
        "df['air_temperature'].isnull().sum()"
      ],
      "metadata": {
        "colab": {
          "base_uri": "https://localhost:8080/"
        },
        "id": "fZMFXJ3GEtap",
        "outputId": "b0d5a253-6b66-4441-80f3-f4207bd37a0c"
      },
      "execution_count": null,
      "outputs": [
        {
          "output_type": "execute_result",
          "data": {
            "text/plain": [
              "0"
            ]
          },
          "metadata": {},
          "execution_count": 24
        }
      ]
    },
    {
      "cell_type": "markdown",
      "source": [
        "#### Process Temperature"
      ],
      "metadata": {
        "id": "RsT92pLMyHq9"
      }
    },
    {
      "cell_type": "code",
      "source": [
        "df['process_temperature'].unique()"
      ],
      "metadata": {
        "colab": {
          "base_uri": "https://localhost:8080/"
        },
        "id": "t69FUdM9mq9J",
        "outputId": "eb386df5-2209-49fe-8cdd-f17e8aad4bab"
      },
      "execution_count": null,
      "outputs": [
        {
          "output_type": "execute_result",
          "data": {
            "text/plain": [
              "array([ 310.5,  309.8,  307.8,  308.3,  312.7,  308.4,  311. ,  310.4,\n",
              "        310.9,  312.1,  306.9,  312.3,  311.2,  309.9,  307.9,  311.1,\n",
              "        307.6,  307.4,  307. ,  310.2,  312.8,  307.5,  312. ,    nan,\n",
              "        309.4,  311.4,  306.1,  308.5,  310.3,  308.1,  308.8,  309.6,\n",
              "        308. ,  308.6,  309.7,  310.6,  311.6,  312.9,  311.8,  309. ,\n",
              "        309.1,  312.4,  309.3,  307.3,  313.1,  310.8,  311.7,  311.5,\n",
              "        313.3,  311.3,  313.5,  313. ,  310.1,  312.6,  308.9,  306.6,\n",
              "        308.7,  307.7,  310. ,  309.2,  310.7,  309.5,  311.9,  307.1,\n",
              "        313.4,  312.5,  308.2,  312.2,  306.2,  306.8,  313.2,  307.2,\n",
              "        306.5,  313.6,  306. ,  306.7,  306.3,  305.8, -309.9,  313.7])"
            ]
          },
          "metadata": {},
          "execution_count": 25
        }
      ]
    },
    {
      "cell_type": "markdown",
      "source": [
        "Hay un datos que est´afuera del rango (es negativo)."
      ],
      "metadata": {
        "id": "1zdyuNf-Kc7x"
      }
    },
    {
      "cell_type": "code",
      "source": [
        "df['process_temperature'] = df['process_temperature'].abs()"
      ],
      "metadata": {
        "id": "QGDpLEJuJGsJ"
      },
      "execution_count": null,
      "outputs": []
    },
    {
      "cell_type": "code",
      "source": [
        "df['process_temperature'].plot.hist()"
      ],
      "metadata": {
        "colab": {
          "base_uri": "https://localhost:8080/"
        },
        "id": "Q_7ADbAEyniG",
        "outputId": "08805b81-be03-45dc-8300-8a4056db0a57"
      },
      "execution_count": null,
      "outputs": [
        {
          "output_type": "execute_result",
          "data": {
            "text/plain": [
              "<Axes: ylabel='Frequency'>"
            ]
          },
          "metadata": {},
          "execution_count": 27
        },
        {
          "output_type": "display_data",
          "data": {
            "text/plain": [
              "<Figure size 432x288 with 1 Axes>"
            ],
            "image/png": "[encoded data removed]"
          },
          "metadata": {
            "needs_background": "light"
          }
        }
      ]
    },
    {
      "cell_type": "code",
      "source": [
        "df['process_temperature'].describe()"
      ],
      "metadata": {
        "colab": {
          "base_uri": "https://localhost:8080/"
        },
        "id": "93cHceojDoYB",
        "outputId": "badb04c0-c7bb-4364-9d23-083e7a97da16"
      },
      "execution_count": null,
      "outputs": [
        {
          "output_type": "execute_result",
          "data": {
            "text/plain": [
              "count    1232.000000\n",
              "mean      310.092857\n",
              "std         1.490451\n",
              "min       305.800000\n",
              "25%       308.975000\n",
              "50%       310.200000\n",
              "75%       311.200000\n",
              "max       313.700000\n",
              "Name: process_temperature, dtype: float64"
            ]
          },
          "metadata": {},
          "execution_count": 28
        }
      ]
    },
    {
      "cell_type": "code",
      "source": [
        "process_mode = df['process_temperature'].mode()[0]\n",
        "process_mode"
      ],
      "metadata": {
        "colab": {
          "base_uri": "https://localhost:8080/"
        },
        "id": "oAvzW3RbD3My",
        "outputId": "fe31bec4-6ed4-4115-9ab0-44145f5ad0ac"
      },
      "execution_count": null,
      "outputs": [
        {
          "output_type": "execute_result",
          "data": {
            "text/plain": [
              "308.6"
            ]
          },
          "metadata": {},
          "execution_count": 29
        }
      ]
    },
    {
      "cell_type": "markdown",
      "source": [
        "La media y la moda son estadísticamente iguales, podemos usar cualquiera de las dos."
      ],
      "metadata": {
        "id": "x1hTL5v6D41J"
      }
    },
    {
      "cell_type": "code",
      "source": [
        "df['process_temperature'].fillna(process_mode, inplace=True)"
      ],
      "metadata": {
        "id": "d9q5Jy2pDju-"
      },
      "execution_count": null,
      "outputs": []
    },
    {
      "cell_type": "code",
      "source": [
        "df['process_temperature'].isnull().sum()"
      ],
      "metadata": {
        "colab": {
          "base_uri": "https://localhost:8080/"
        },
        "id": "LknhUL5pEThg",
        "outputId": "c4b5ad54-b72e-4488-8cfa-be9580e5085f"
      },
      "execution_count": null,
      "outputs": [
        {
          "output_type": "execute_result",
          "data": {
            "text/plain": [
              "0"
            ]
          },
          "metadata": {},
          "execution_count": 31
        }
      ]
    },
    {
      "cell_type": "markdown",
      "source": [
        "#### Rotational Speed"
      ],
      "metadata": {
        "id": "m5Nv_vA8yLD5"
      }
    },
    {
      "cell_type": "code",
      "source": [
        "df['rotational_speed'].unique()"
      ],
      "metadata": {
        "colab": {
          "base_uri": "https://localhost:8080/"
        },
        "id": "CbrLnjD4mtNi",
        "outputId": "2ae540b0-d9ed-421b-deea-98c603c33936"
      },
      "execution_count": null,
      "outputs": [
        {
          "output_type": "execute_result",
          "data": {
            "text/plain": [
              "array([1600., 1441., 1636., 1424., 1426., 1571., 1403., 1491., 1536.,\n",
              "       1643., 1664., 1951., 1543., 1427., 1384., 1483., 1421., 1529.,\n",
              "       1325., 1690., 1493., 1523., 1771., 1702., 1701., 1683., 1447.,\n",
              "       1892., 1372.,   nan, 1695., 1655., 1495., 1669., 1371., 1418.,\n",
              "       1345., 1618., 1991., 1675., 1456., 1521., 1448., 1502., 1901.,\n",
              "       1428., 1526., 1570., 1609., 1611., 1747., 1496., 1716., 1751.,\n",
              "       1368., 1474., 1429., 1630., 1619., 1841., 1305., 1707., 1607.,\n",
              "       1984., 1553., 1433., 1699., 1363., 1578., 1438., 1408., 1583.,\n",
              "       1460., 1698., 1981., 1498., 1549., 2129., 1515., 1740., 1410.,\n",
              "       1477., 1509., 1824., 1417., 1436., 1844., 1566., 1703., 1601.,\n",
              "       1329., 1470., 1546., 1685., 1432., 1431., 1279., 1678., 1793.,\n",
              "       1617., 1362., 1679., 1286., 1451., 1374., 1596., 1486., 1480.,\n",
              "       2189., 1494., 1684., 1757., 1326., 1501., 1406., 1437., 1762.,\n",
              "       1516., 1316., 1724., 1461., 1352., 1557., 1294., 1314., 1614.,\n",
              "       1500., 1717., 1766., 1697., 1628., 1453., 1590., 1452., 1455.,\n",
              "       1807., 1657., 1359., 1544., 1551., 1479., 1729., 1365., 1722.,\n",
              "       1556., 1680., 1936., 1394., 1563., 1364., 1488., 1457., 1661.,\n",
              "       1469., 1405., 1537., 1542., 1450., 1333., 1953., 1435., 1485.,\n",
              "       1612., 1357., 1319., 1389., 1545., 1409., 1658., 2033., 2041.,\n",
              "       1439., 1694., 1531., 1422., 1795., 1923., 1588., 1492., 1517.,\n",
              "       1295., 1562., 1348., 1330., 1387., 1627., 1677., 1715., 1416.,\n",
              "       1606., 1386., 1559., 1507., 1473., 1511., 1396., 1662., 1440.,\n",
              "       1463., 1445., 1430., 1932., 1513., 1490., 1641., 1412., 1520.,\n",
              "       2034., 1454., 1864., 1505., 1539., 1510., 1306., 1772., 1246.,\n",
              "       1467., 1735., 1761., 1443., 1670., 1413., 1786., 1720., 1869.,\n",
              "       1533., 1550., 2016., 1499., 1414., 1404., 1734., 1746., 1605.,\n",
              "       1350., 1725., 1613., 1858., 1471., 2266., 1391., 1567., 1941.,\n",
              "       1304., 1535., 1398., 2071., 1401., 1644., 1693., 1466., 1568.,\n",
              "       1668., 1558., 1881., 1665., 1354., 1581., 1476., 1811., 1380.,\n",
              "       1791., 1419., 1367., 1540., 1281., 1487., 1434., 1911., 1569.,\n",
              "       1843., 1351., 1783., 1375., 1399., 1623., 1806., 1356., 1458.,\n",
              "       1459., 1561., 1755., 1809., 1781., 1377., 1341., 1721., 1327.,\n",
              "       1288., 1560., 1620., 1225., 1574., 1366., 1672., 1682., 1868.,\n",
              "       1638., 1464., 1446., 1748., 1519., 1737., 1462., 1400., 1674.,\n",
              "       1373., 1538., 1827., 1954., 1935., 1449., 1355., 1349., 1602.,\n",
              "       1663., 1309., 1642., 1504., 1632., 1592., 1624., 1595., 1739.,\n",
              "       1660., 1541., 1577., 1633., 1651., 1985., 1524., 1320., 1626.,\n",
              "       1872., 1706., 1687., 1506., 1925., 1587., 1784., 1584., 1764.,\n",
              "       1392., 1415., 1622., 1676., 1489., 1360., 1744., 1512., 1334.,\n",
              "       1604., 1378., 1810., 1420., 1666., 1444., 1382., 1593., 1779.,\n",
              "       1673., 1407., 1903., 1650., 1527., 1518., 1497., 1332., 1514.,\n",
              "       1862., 1924., 1615., 2157., 1530., 1691., 1847., 1402., 1552.,\n",
              "       1564., 1863., 1789., 1635., 1331., 1336., 1482., 1472., 1475.,\n",
              "       1821., 1913., 1565., 1339., 1534., 1503., 1962., 1732., 1616.,\n",
              "       1736., 2055., 1796., 1708., 1192., 1548., 1828., 2344., 1906.,\n",
              "       1589., 1297., 1940., 2068., 2354., 1719., 1802., 1528., 1481.,\n",
              "       2076., 1484., 1696., 1547., 1383., 1465., 1582., 1411., 1792.,\n",
              "       1805., 1621., 1554., 1610., 1575., 1705., 1654., 1251., 1968.,\n",
              "       1667., 2032., 1343., 1301., 1340., 1344., 1709., 1608., 1852.,\n",
              "       1397., 1768., 1585., 1637., 1959., 2001., 1812., 1639., 1910.,\n",
              "       2861., 1282., 2678., 2564., 2874., 1289., 2833., 1235., 2270.,\n",
              "       1385., 2721., 1258., 1296., 2153., 1243., 2737., 1268., 1310.,\n",
              "       2886., 1313., 2567., 1390., 1867., 2549., 1267., 1299., 1996.,\n",
              "       1324., 1379., 2563., 1342., 1269., 1285., 2760., 2639., 2672.,\n",
              "       1270., 1338., 1629., 2709., 1442., 1227., 2691., 1376., 1370.,\n",
              "       1311., 1212., 1263., 1346., 1369., 1284., 1361., 1317., 2372.,\n",
              "       2825., 1259., 1280., 1298., 1353., 1358., 2676., 1321., 1307.,\n",
              "       1275., 1312., 1335., 1238., 1222., 1337., 2663., 1315., 1256.,\n",
              "       2659., 1271., 2706., 1262., 1257., 1290., 1671., 1236., 1322.,\n",
              "       2478., 2633., 1648., 1692., 2579., 1381., 1255., 2097., 1272.,\n",
              "       1200., 2710., 1229., 1303., 2617., 1710., 1323., 1871., 1922.,\n",
              "       1287., 2271.])"
            ]
          },
          "metadata": {},
          "execution_count": 32
        }
      ]
    },
    {
      "cell_type": "code",
      "source": [
        "df['rotational_speed'].plot.hist()"
      ],
      "metadata": {
        "colab": {
          "base_uri": "https://localhost:8080/"
        },
        "id": "ZybM9J9iypxi",
        "outputId": "e6909595-4b00-4ea3-8146-ab664c9d4f6a"
      },
      "execution_count": null,
      "outputs": [
        {
          "output_type": "execute_result",
          "data": {
            "text/plain": [
              "<Axes: ylabel='Frequency'>"
            ]
          },
          "metadata": {},
          "execution_count": 33
        },
        {
          "output_type": "display_data",
          "data": {
            "text/plain": [
              "<Figure size 432x288 with 1 Axes>"
            ],
            "image/png": "[encoded data removed]"
          },
          "metadata": {
            "needs_background": "light"
          }
        }
      ]
    },
    {
      "cell_type": "code",
      "source": [
        "df['rotational_speed'].describe()"
      ],
      "metadata": {
        "colab": {
          "base_uri": "https://localhost:8080/"
        },
        "id": "EuKlVWekE-_s",
        "outputId": "35b93f0a-2723-4065-9023-0a9ec99b0f57"
      },
      "execution_count": null,
      "outputs": [
        {
          "output_type": "execute_result",
          "data": {
            "text/plain": [
              "count    1241.000000\n",
              "mean     1535.970991\n",
              "std       243.333697\n",
              "min      1192.000000\n",
              "25%      1381.000000\n",
              "50%      1477.000000\n",
              "75%      1612.000000\n",
              "max      2886.000000\n",
              "Name: rotational_speed, dtype: float64"
            ]
          },
          "metadata": {},
          "execution_count": 34
        }
      ]
    },
    {
      "cell_type": "code",
      "source": [
        "process_mode = df['rotational_speed'].mode()[0]\n",
        "process_mode"
      ],
      "metadata": {
        "colab": {
          "base_uri": "https://localhost:8080/"
        },
        "id": "_HRJJeoSFCma",
        "outputId": "ee89eb75-0256-4352-a312-6937adcb8417"
      },
      "execution_count": null,
      "outputs": [
        {
          "output_type": "execute_result",
          "data": {
            "text/plain": [
              "1372.0"
            ]
          },
          "metadata": {},
          "execution_count": 35
        }
      ]
    },
    {
      "cell_type": "markdown",
      "source": [
        "La media y la moda son estadísticamente iguales, podemos usar cualquiera de las dos."
      ],
      "metadata": {
        "id": "nE4CfONzFEOV"
      }
    },
    {
      "cell_type": "code",
      "source": [
        "df['rotational_speed'].fillna(process_mode, inplace=True)"
      ],
      "metadata": {
        "id": "ltRkmOkXFF4g"
      },
      "execution_count": null,
      "outputs": []
    },
    {
      "cell_type": "code",
      "source": [
        "df['rotational_speed'].isnull().sum()"
      ],
      "metadata": {
        "colab": {
          "base_uri": "https://localhost:8080/"
        },
        "id": "cUZ3xDCbFHER",
        "outputId": "21b56a17-1bf4-457e-d394-6ffad2c20b85"
      },
      "execution_count": null,
      "outputs": [
        {
          "output_type": "execute_result",
          "data": {
            "text/plain": [
              "0"
            ]
          },
          "metadata": {},
          "execution_count": 37
        }
      ]
    },
    {
      "cell_type": "markdown",
      "source": [
        "#### Torque"
      ],
      "metadata": {
        "id": "Q3K2LaYqyOww"
      }
    },
    {
      "cell_type": "code",
      "source": [
        "df['torque'].unique()"
      ],
      "metadata": {
        "colab": {
          "base_uri": "https://localhost:8080/"
        },
        "id": "GVPHneeDmvxf",
        "outputId": "1a99c770-f6a9-4f19-8c55-fdd42e79fa2f"
      },
      "execution_count": null,
      "outputs": [
        {
          "output_type": "execute_result",
          "data": {
            "text/plain": [
              "array([32.8, 48.8, 36.7, 53.9, 46.8, 39.4, 48.3, 46.5, 34.2, 34.1, 28.4,\n",
              "       23.3, 33.3, 47. , 49.4, 47.2, 36.6, 61.4, 29.6,  nan, 48.4, 42. ,\n",
              "       26.8, 29.3, 30.8, 27.8, 41.4, 46.3, 40.8, 26.7, 28.7, 43.6, 29. ,\n",
              "       55.5, 41.2, 34.7, 20.7, 35.5, 42.4, 34.8, 51.4, 28.5, 48.9, 41. ,\n",
              "       22.1, 45.3, 37.3, 31. , 39.9, 25.3, 38.5, 26.6, 27.9, 52.7, 31.8,\n",
              "       24.6, 51.7, 30. , 33.7, 19.7, 32.6, 30.3, 53.1, 30.5, 44.5, 39.8,\n",
              "       52. , 32.1, 53.7, 33.2, 21.8, 38.1, 18.7, 47.4, 49. , 48.5, 47.3,\n",
              "       24. , 47.6, 51.9, 50.8, 27.1, 37.6, 40.2, 40.9, 33.1, 28.2, 49.8,\n",
              "       52.3, 55.9, 38.9, 31.6, 56.3, 32.4, 60.5, 37.2, 41.1, 42.9, 15.6,\n",
              "       43.2, 42.7, 38.8, 41.9, 43.3, 39. , 45.4, 52.8, 36. , 43.8, 59.4,\n",
              "       59.5, 33.5, 41.6, 31.3, 44. , 48.1, 29.8, 45.5, 34.6, 38.3, 39.7,\n",
              "       44.1, 24.2, 25.6, 46.6, 42.5, 42.8, 30.2, 52.4, 24.7, 35.7, 27.2,\n",
              "       23.9, 45.2, 35.6, 49.5, 41.8, 23.6, 32. , 32.2, 47.7, 37.4, 47.9,\n",
              "       50.2, 19.4, 58.6, 56.9, 36.3, 55.3, 28.3, 28.1, 43.5, 50.1, 49.1,\n",
              "       32.3, 16.7, 19.2, 27.3, 45.6, 27. , 32.5, 44.6, 56.6, 37.7, 54.6,\n",
              "       54.1, 37.1, 44.8, 34.5, 35.4, 46.1, 33.9, 50.3, 40.1, 39.1, 42.6,\n",
              "       35.2, 48.2, 45.7, 34.4, 35.9, 27.5, 47.5, 50.7, 45.9, 52.9, 35. ,\n",
              "       39.5, 26.2, 46.9, 33.8, 29.4, 42.1, 39.3, 25.7, 22.9, 45.8, 41.5,\n",
              "       19.9, 49.7, 29.9, 34. , 43.7, 32.7, 25.4, 34.3, 15.3, 31.4, 22.5,\n",
              "       40.3, 50.6, 18.5, 39.6, 53.2, 40.7, 36.9, 49.2, 25.5, 49.9, 50. ,\n",
              "       43.4, 31.7, 39.2, 40. , 23.2, 27.6, 50.9, 38.7, 57.3, 52.6, 23.5,\n",
              "       54.3, 36.2, 24.5, 37.8, 36.4, 30.9, 19.3, 52.1, 44.3, 41.3, 32.9,\n",
              "       53.5, 42.3, 44.7, 30.4, 25. , 43.1, 52.2, 27.4, 56.5, 51.1, 55.6,\n",
              "       43. , 31.2, 63.4, 46. , 55. , 50.4, 29.7, 21.3, 48. , 35.3, 40.6,\n",
              "       26.1, 31.9, 50.5, 48.7, 41.7, 51.2, 24.8, 55.1, 56.2, 60.7, 29.1,\n",
              "       30.6, 40.4, 28.6, 55.7, 61.7, 44.2, 36.5, 29.5, 37.9, 22. , 38.6,\n",
              "       61.1, 57.1, 25.9, 44.4, 51.3, 31.5, 25.8, 54.9, 42.2, 26.4, 33. ,\n",
              "       43.9, 26. , 53.8, 33.6, 27.7, 38.2, 36.1, 53. , 21.2, 57.9, 20.6,\n",
              "       17.2, 30.1, 40.5, 45.1, 55.2, 22.2, 34.9, 57.8, 31.1, 33.4, 61.6,\n",
              "       47.1, 46.7, 26.3, 21.9, 30.7, 49.6, 35.8, 38. , 37. , 20.2, 16.8,\n",
              "       23.8, 24.3, 68.9, 15.2, 54.2, 38.4, 17.8, 15. , 37.5, 58.7, 36.8,\n",
              "       28.9, 48.6, 59.9, 59. , 62.4, 20.4, 29.2, 19. , 57.7, 45. , 28.8,\n",
              "       56.8, 46.4, 54.4, 57.6, 21.5, 54.8, 22.3, 55.4, 63.6,  4.6, 65.7,\n",
              "       62.3, 10.7, 58.8, 63.9, 56.7, 12.8, 61.5,  4.2, 71.6, 62. ,  5.6,\n",
              "       76.2, 14.6, 68.3, 56.4,  9.3, 69. , 69.1, 61.2, 52.5, 74.5,  8.8,\n",
              "       53.3, 58.5, 69.4, 61. ,  3.8, 67.3, 66.3, 23.4, 13. , 62.9, 53.6,\n",
              "       68.2, 67.5, 65.1, 51.5, 63.2, 19.8, 72.8, 62.6,  8. , 12. , 11.8,\n",
              "       65.3, 49.3, 59.1, 67.6,  9.7, 66.7, 59.2, 60.3, 12.1, 68.6, 58. ,\n",
              "       58.2, 47.8, 62.8, 57.4, 60.6, 60. , 68. , 13.9,  5.8, 55.8, 62.7,\n",
              "       65.5, 51.6, 66.8, 10.8, 67.8, 57.2, 54. , 51. , 11.4, 54.5, 70.6,\n",
              "       62.5,  9.8, 70.5, 68.5, 71.3, 70. , 64.4, 67.9, 73.6, 63.7, 65.8,\n",
              "       65.6, 12.2, 67.2, 13.4, 61.8, 69.6, 60.1, 12.5, 65.2, 71.8, 61.3,\n",
              "       58.4, 18.9, 76.6, 69.7, 65.9, 72. , 59.6, 75.4, 64.2, 61.9, 16.2,\n",
              "       60.9, 56.1])"
            ]
          },
          "metadata": {},
          "execution_count": 38
        }
      ]
    },
    {
      "cell_type": "code",
      "source": [
        "df['torque'].plot.hist()"
      ],
      "metadata": {
        "colab": {
          "base_uri": "https://localhost:8080/"
        },
        "id": "1h13y-dTysEc",
        "outputId": "ff867aa5-7b0f-4e22-833c-cb103bcf333d"
      },
      "execution_count": null,
      "outputs": [
        {
          "output_type": "execute_result",
          "data": {
            "text/plain": [
              "<Axes: ylabel='Frequency'>"
            ]
          },
          "metadata": {},
          "execution_count": 39
        },
        {
          "output_type": "display_data",
          "data": {
            "text/plain": [
              "<Figure size 432x288 with 1 Axes>"
            ],
            "image/png": "[encoded data removed]"
          },
          "metadata": {
            "needs_background": "light"
          }
        }
      ]
    },
    {
      "cell_type": "code",
      "source": [
        "df['torque'].describe()"
      ],
      "metadata": {
        "colab": {
          "base_uri": "https://localhost:8080/"
        },
        "id": "ZCizZIS1F7sc",
        "outputId": "bc5c5efc-51e5-4de8-a2d0-33fb6a8ed1fb"
      },
      "execution_count": null,
      "outputs": [
        {
          "output_type": "execute_result",
          "data": {
            "text/plain": [
              "count    1245.000000\n",
              "mean       42.002329\n",
              "std        12.696073\n",
              "min         3.800000\n",
              "25%        33.400000\n",
              "50%        42.000000\n",
              "75%        50.300000\n",
              "max        76.600000\n",
              "Name: torque, dtype: float64"
            ]
          },
          "metadata": {},
          "execution_count": 40
        }
      ]
    },
    {
      "cell_type": "code",
      "source": [
        "process_mode = df['torque'].mode()[0]\n",
        "process_mode"
      ],
      "metadata": {
        "colab": {
          "base_uri": "https://localhost:8080/"
        },
        "id": "bywq18SdF9v5",
        "outputId": "d7f11f69-f91d-41e3-c5c5-1345db25b251"
      },
      "execution_count": null,
      "outputs": [
        {
          "output_type": "execute_result",
          "data": {
            "text/plain": [
              "38.5"
            ]
          },
          "metadata": {},
          "execution_count": 41
        }
      ]
    },
    {
      "cell_type": "markdown",
      "source": [
        "La media y la moda son estadísticamente iguales, podemos usar cualquiera de las dos."
      ],
      "metadata": {
        "id": "pSuFSTUrGHBz"
      }
    },
    {
      "cell_type": "code",
      "source": [
        "df['torque'].fillna(process_mode, inplace=True)"
      ],
      "metadata": {
        "id": "UqrNpNIhF_AX"
      },
      "execution_count": null,
      "outputs": []
    },
    {
      "cell_type": "code",
      "source": [
        "df['torque'].isnull().sum()"
      ],
      "metadata": {
        "colab": {
          "base_uri": "https://localhost:8080/"
        },
        "id": "7wNSdNnHGAIf",
        "outputId": "ee3aaea3-d56f-4f43-b77c-4da0c2af2172"
      },
      "execution_count": null,
      "outputs": [
        {
          "output_type": "execute_result",
          "data": {
            "text/plain": [
              "0"
            ]
          },
          "metadata": {},
          "execution_count": 43
        }
      ]
    },
    {
      "cell_type": "markdown",
      "source": [
        "#### Tool Wear"
      ],
      "metadata": {
        "id": "RB-My6dEyQ-6"
      }
    },
    {
      "cell_type": "code",
      "source": [
        "df['tool_wear'].unique()"
      ],
      "metadata": {
        "colab": {
          "base_uri": "https://localhost:8080/"
        },
        "id": "ZJvR18z7m3XP",
        "outputId": "627bc6d1-386f-4cf6-fc25-0aa19c767d07"
      },
      "execution_count": null,
      "outputs": [
        {
          "output_type": "execute_result",
          "data": {
            "text/plain": [
              "array([205., 200.,  51., 132.,  99.,   0.,  70.,  29.,  45.,  44.,  nan,\n",
              "        38.,  71.,  65.,  48., 142., 105.,  88., 119., 164., 216.,  32.,\n",
              "        12.,  26., 193.,  34., 173.,  37.,  28.,  20.,  95., 161., 159.,\n",
              "       155.,  50.,  39.,  59.,  72.,  63., 160., 176.,  81.,  47., 140.,\n",
              "       190., 210., 136., 162.,   9., 183.,  21.,  53.,  35.,  52., 182.,\n",
              "       143., 202., 165., 130., 169.,  90.,  76., 178.,   7.,   3.,  57.,\n",
              "       116., 214., 147.,  36., 121., 126., 170., 223., 138.,   2., 179.,\n",
              "        10., 153.,  54., 134.,  69., 125.,  58.,  82.,  66., 198.,  11.,\n",
              "       152., 114., 113., 108., 154., 144.,  87.,  13., 122., 186., 221.,\n",
              "       167.,   6.,  75., 171., 127.,  92., 120.,  41.,  56., 158., 104.,\n",
              "        17., 191., 187.,  61., 203.,  67.,  74.,  86.,  33., 196., 188.,\n",
              "        77.,  43., 227.,  15., 189.,  64., 131., 151., 206., 106., 137.,\n",
              "        91., 112., 177., 107., 123., 181.,  31., 219.,  62.,  98., 103.,\n",
              "       133.,  85., 150., 215., 128., 174.,  40.,  18., 172.,  22., 207.,\n",
              "       168.,  60., 185., 157., 110., 220., 194.,  23.,  83., 135.,  78.,\n",
              "       148.,  16., 109.,  30., 101., 146.,  89.,  24.,  80., 192.,   5.,\n",
              "        84., 212., 197., 199.,  93., 175.,  79., 115., 166., 117.,  14.,\n",
              "       139., 124.,  49., 180.,  96., 204.,  25.,  97., 100.,  19.,  55.,\n",
              "       145., 118., 163., 141.,  68., 129., 201., 208.,  46., 156., 195.,\n",
              "       102.,  73.,  27., 211.,  94., 218., 149., 184., 217., 244.,   8.,\n",
              "       226.,   4., 213., 237., 241., 111., 222., 228., 225., 209.,  42.,\n",
              "       231., 246., 235., 229., 233., 234., 251., 253., 232., 238.])"
            ]
          },
          "metadata": {},
          "execution_count": 44
        }
      ]
    },
    {
      "cell_type": "code",
      "source": [
        "df['tool_wear'].plot.hist()"
      ],
      "metadata": {
        "colab": {
          "base_uri": "https://localhost:8080/"
        },
        "id": "-dUXOCgYyt-k",
        "outputId": "3a55403a-d2ac-424e-9ba4-09a7220ffb59"
      },
      "execution_count": null,
      "outputs": [
        {
          "output_type": "execute_result",
          "data": {
            "text/plain": [
              "<Axes: ylabel='Frequency'>"
            ]
          },
          "metadata": {},
          "execution_count": 45
        },
        {
          "output_type": "display_data",
          "data": {
            "text/plain": [
              "<Figure size 432x288 with 1 Axes>"
            ],
            "image/png": "[encoded data removed]"
          },
          "metadata": {
            "needs_background": "light"
          }
        }
      ]
    },
    {
      "cell_type": "code",
      "source": [
        "df['tool_wear'].describe()"
      ],
      "metadata": {
        "colab": {
          "base_uri": "https://localhost:8080/"
        },
        "id": "kcPOeC5mFVwh",
        "outputId": "ba81c863-a559-4420-87d9-1bddb36602c3"
      },
      "execution_count": null,
      "outputs": [
        {
          "output_type": "execute_result",
          "data": {
            "text/plain": [
              "count    1243.000000\n",
              "mean      115.325825\n",
              "std        67.053714\n",
              "min         0.000000\n",
              "25%        59.500000\n",
              "50%       112.000000\n",
              "75%       174.000000\n",
              "max       253.000000\n",
              "Name: tool_wear, dtype: float64"
            ]
          },
          "metadata": {},
          "execution_count": 46
        }
      ]
    },
    {
      "cell_type": "code",
      "source": [
        "process_mode = df['tool_wear'].mode()[0]\n",
        "process_mode"
      ],
      "metadata": {
        "colab": {
          "base_uri": "https://localhost:8080/"
        },
        "id": "iIUzWVamFXjV",
        "outputId": "c56214d0-494c-45f3-87b8-c466802ee3cf"
      },
      "execution_count": null,
      "outputs": [
        {
          "output_type": "execute_result",
          "data": {
            "text/plain": [
              "0.0"
            ]
          },
          "metadata": {},
          "execution_count": 47
        }
      ]
    },
    {
      "cell_type": "code",
      "source": [
        "df['tool_wear'].fillna(df['tool_wear'].mean(), inplace=True)"
      ],
      "metadata": {
        "id": "8wtVqA4vFcSI"
      },
      "execution_count": null,
      "outputs": []
    },
    {
      "cell_type": "code",
      "source": [
        "df['tool_wear'].isnull().sum()"
      ],
      "metadata": {
        "colab": {
          "base_uri": "https://localhost:8080/"
        },
        "id": "53fxS3kYFfDs",
        "outputId": "f05931a9-b562-4346-b549-9edafda5e57e"
      },
      "execution_count": null,
      "outputs": [
        {
          "output_type": "execute_result",
          "data": {
            "text/plain": [
              "0"
            ]
          },
          "metadata": {},
          "execution_count": 49
        }
      ]
    },
    {
      "cell_type": "markdown",
      "source": [
        "#### Machine Failure"
      ],
      "metadata": {
        "id": "LaaO4MTSyU0o"
      }
    },
    {
      "cell_type": "code",
      "source": [
        "df['machine_failure'].unique()"
      ],
      "metadata": {
        "colab": {
          "base_uri": "https://localhost:8080/"
        },
        "id": "co-Vh_O3m6Aj",
        "outputId": "32d4ea41-e2e4-485d-b79f-d90ea2f7ad00"
      },
      "execution_count": null,
      "outputs": [
        {
          "output_type": "execute_result",
          "data": {
            "text/plain": [
              "array([0, 1])"
            ]
          },
          "metadata": {},
          "execution_count": 50
        }
      ]
    },
    {
      "cell_type": "code",
      "source": [
        "df[\"machine_failure\"].value_counts().plot(kind='pie', autopct='%1.1f%%')"
      ],
      "metadata": {
        "colab": {
          "base_uri": "https://localhost:8080/"
        },
        "id": "1w7b70YZyv_L",
        "outputId": "58d7af93-a074-43ee-e289-5a8f4960ec8e"
      },
      "execution_count": null,
      "outputs": [
        {
          "output_type": "execute_result",
          "data": {
            "text/plain": [
              "<Axes: ylabel='machine_failure'>"
            ]
          },
          "metadata": {},
          "execution_count": 51
        },
        {
          "output_type": "display_data",
          "data": {
            "text/plain": [
              "<Figure size 432x288 with 1 Axes>"
            ],
            "image/png": "[encoded data removed]"
          },
          "metadata": {}
        }
      ]
    },
    {
      "cell_type": "markdown",
      "source": [
        "El siguiente condicional ayuda a, en caso de que un valor de \"machine_failure\" esté vacío, revisar las columnas de tipos de fallo y compribar si hay un 1. En caso verdadero, se pone el 1 en esa fila para \"machine_failure\"; en caso contrario, un 0. Esto se hace, ya que no podemos asumir que poner la moda o la mediana no va a cambiar el resultado futuro de los modelos entrenados."
      ],
      "metadata": {
        "id": "6jkMefxDKSDi"
      }
    },
    {
      "cell_type": "code",
      "source": [
        "for i in range(len(df)):\n",
        "  if pd.isnull(df.loc[i, 'machine_failure']):\n",
        "      if any(df.loc[i, ['twf', 'hdf', 'pwf', 'osf', 'rnf']] == 1):\n",
        "          df.loc[i, 'machine_failure'] = 1\n",
        "      else:\n",
        "          df.loc[i, 'machine_failure'] = 0"
      ],
      "metadata": {
        "id": "8snG49UKKlGO"
      },
      "execution_count": null,
      "outputs": []
    },
    {
      "cell_type": "markdown",
      "source": [
        "#### Columnas de Falla"
      ],
      "metadata": {
        "id": "6dRPXl9MybGJ"
      }
    },
    {
      "cell_type": "code",
      "source": [
        "df['twf'].unique()"
      ],
      "metadata": {
        "colab": {
          "base_uri": "https://localhost:8080/"
        },
        "id": "eoiKyx3om8J8",
        "outputId": "20692ba8-a038-4bdf-a812-b80079518677"
      },
      "execution_count": null,
      "outputs": [
        {
          "output_type": "execute_result",
          "data": {
            "text/plain": [
              "array([0, 1])"
            ]
          },
          "metadata": {},
          "execution_count": 53
        }
      ]
    },
    {
      "cell_type": "code",
      "source": [
        "df['hdf'].unique()"
      ],
      "metadata": {
        "colab": {
          "base_uri": "https://localhost:8080/"
        },
        "id": "Ii5N7a3hm_0R",
        "outputId": "a0d108a3-d3c4-4032-bc8f-f169c2865fd8"
      },
      "execution_count": null,
      "outputs": [
        {
          "output_type": "execute_result",
          "data": {
            "text/plain": [
              "array([0, 1])"
            ]
          },
          "metadata": {},
          "execution_count": 54
        }
      ]
    },
    {
      "cell_type": "code",
      "source": [
        "df['pwf'].unique()"
      ],
      "metadata": {
        "colab": {
          "base_uri": "https://localhost:8080/"
        },
        "id": "FOXFC-nHnCUp",
        "outputId": "0c006ba1-bdb0-4a33-e391-8d046539e0a9"
      },
      "execution_count": null,
      "outputs": [
        {
          "output_type": "execute_result",
          "data": {
            "text/plain": [
              "array([0, 1])"
            ]
          },
          "metadata": {},
          "execution_count": 55
        }
      ]
    },
    {
      "cell_type": "code",
      "source": [
        "df['osf'].unique()"
      ],
      "metadata": {
        "colab": {
          "base_uri": "https://localhost:8080/"
        },
        "id": "EoO1l28VnEFJ",
        "outputId": "8a2e253b-7f49-458e-ac49-faec82c6c98f"
      },
      "execution_count": null,
      "outputs": [
        {
          "output_type": "execute_result",
          "data": {
            "text/plain": [
              "array([0, 1])"
            ]
          },
          "metadata": {},
          "execution_count": 56
        }
      ]
    },
    {
      "cell_type": "code",
      "source": [
        "df['rnf'].unique()"
      ],
      "metadata": {
        "colab": {
          "base_uri": "https://localhost:8080/"
        },
        "id": "FQaziGGgnFv2",
        "outputId": "986d0a63-8e40-494e-c4c4-aba19dc5708e"
      },
      "execution_count": null,
      "outputs": [
        {
          "output_type": "execute_result",
          "data": {
            "text/plain": [
              "array([0, 1])"
            ]
          },
          "metadata": {},
          "execution_count": 57
        }
      ]
    },
    {
      "cell_type": "code",
      "source": [
        "df.boxplot(column=['twf', 'hdf', 'pwf', 'osf', 'rnf'])"
      ],
      "metadata": {
        "colab": {
          "base_uri": "https://localhost:8080/"
        },
        "id": "fOQi0CQvzDnK",
        "outputId": "ec36649b-c75e-4d18-f0d4-65ef324cbdb7"
      },
      "execution_count": null,
      "outputs": [
        {
          "output_type": "execute_result",
          "data": {
            "text/plain": [
              "<Axes: >"
            ]
          },
          "metadata": {},
          "execution_count": 58
        },
        {
          "output_type": "display_data",
          "data": {
            "text/plain": [
              "<Figure size 432x288 with 1 Axes>"
            ],
            "image/png": "[encoded data removed]"
          },
          "metadata": {
            "needs_background": "light"
          }
        }
      ]
    },
    {
      "cell_type": "markdown",
      "source": [
        "#### Confirmación de valores nulos"
      ],
      "metadata": {
        "id": "TCPYgyBQLAel"
      }
    },
    {
      "cell_type": "code",
      "source": [
        "(df.isnull().sum() / df.shape[0]).sort_values(ascending=False)"
      ],
      "metadata": {
        "colab": {
          "base_uri": "https://localhost:8080/"
        },
        "id": "nwpBx3rIK_uU",
        "outputId": "5e002c15-2131-491e-957f-2307f43da737"
      },
      "execution_count": null,
      "outputs": [
        {
          "output_type": "execute_result",
          "data": {
            "text/plain": [
              "uid                    0.0\n",
              "product_id             0.0\n",
              "type                   0.0\n",
              "air_temperature        0.0\n",
              "process_temperature    0.0\n",
              "rotational_speed       0.0\n",
              "torque                 0.0\n",
              "tool_wear              0.0\n",
              "machine_failure        0.0\n",
              "twf                    0.0\n",
              "hdf                    0.0\n",
              "pwf                    0.0\n",
              "osf                    0.0\n",
              "rnf                    0.0\n",
              "dtype: float64"
            ]
          },
          "metadata": {},
          "execution_count": 59
        }
      ]
    },
    {
      "cell_type": "markdown",
      "source": [
        "### Contrucción de Variable Objetivo (para Clasificación)"
      ],
      "metadata": {
        "id": "HT4OC5f-lKAS"
      }
    },
    {
      "cell_type": "markdown",
      "source": [
        "Se busca un modelo que permita conocer el posible estado de falla de una máquina, para realizar un mantenimiento preventivo. Por esta razón, se va a usar como variable objetivo \"machine_failure\"."
      ],
      "metadata": {
        "id": "Da3u5RypnUag"
      }
    },
    {
      "cell_type": "markdown",
      "source": [
        "## 3. Entrenamiento modelo Machine Learning"
      ],
      "metadata": {
        "id": "m1rFashq-Qbo"
      }
    },
    {
      "cell_type": "markdown",
      "source": [
        "### Machine Learning, Clasificación"
      ],
      "metadata": {
        "id": "k9-1PgBUB4Nv"
      }
    },
    {
      "cell_type": "markdown",
      "source": [
        "#### Selección de *Features*"
      ],
      "metadata": {
        "id": "hVSvO_hWlN2M"
      }
    },
    {
      "cell_type": "markdown",
      "source": [
        "Las columnas que nos permiten tener una idea clara de la distribución de fallos entre máquinas son aquellas que nos permitan ver qué identifica a una máquina con o sin posibles fallos:"
      ],
      "metadata": {
        "id": "5FaHEVY8owWS"
      }
    },
    {
      "cell_type": "code",
      "source": [
        "features = ['type', 'air_temperature', 'process_temperature', 'torque', 'rotational_speed', 'tool_wear']"
      ],
      "metadata": {
        "id": "DCPlhwe0pDUm"
      },
      "execution_count": null,
      "outputs": []
    },
    {
      "cell_type": "markdown",
      "source": [
        "No se van a tener en cuenta columnas como twf, hdf, pwf, osf ni rnf, porque todas son derivadas de la columna machine_failure. Esto se puede verificar revisando la correlación entre cada par de variables."
      ],
      "metadata": {
        "id": "pfvRJTE1pPHi"
      }
    },
    {
      "cell_type": "code",
      "source": [
        "f = plt.figure(figsize = (4, 4))\n",
        "ft = ['twf'] + [\"machine_failure\"]\n",
        "plt.matshow(df[ft].corr(), fignum=f.number, cmap = 'seismic')\n",
        "plt.xticks(range(len(ft)), ft, fontsize = 12, rotation = 45)\n",
        "plt.yticks(range(len(ft)), ft, fontsize = 12)\n",
        "cb = plt.colorbar()\n",
        "_ = cb.ax.tick_params(labelsize = 12)\n",
        "\n",
        "f = plt.figure(figsize = (4, 4))\n",
        "ft = ['hdf'] + [\"machine_failure\"]\n",
        "plt.matshow(df[ft].corr(), fignum=f.number, cmap = 'seismic')\n",
        "plt.xticks(range(len(ft)), ft, fontsize = 12, rotation = 45)\n",
        "plt.yticks(range(len(ft)), ft, fontsize = 12)\n",
        "cb = plt.colorbar()\n",
        "_ = cb.ax.tick_params(labelsize = 12)\n",
        "\n",
        "f = plt.figure(figsize = (4, 4))\n",
        "ft = ['pwf'] + [\"machine_failure\"]\n",
        "plt.matshow(df[ft].corr(), fignum=f.number, cmap = 'seismic')\n",
        "plt.xticks(range(len(ft)), ft, fontsize = 12, rotation = 45)\n",
        "plt.yticks(range(len(ft)), ft, fontsize = 12)\n",
        "cb = plt.colorbar()\n",
        "_ = cb.ax.tick_params(labelsize = 12)\n",
        "\n",
        "f = plt.figure(figsize = (4, 4))\n",
        "ft = ['osf'] + [\"machine_failure\"]\n",
        "plt.matshow(df[ft].corr(), fignum=f.number, cmap = 'seismic')\n",
        "plt.xticks(range(len(ft)), ft, fontsize = 12, rotation = 45)\n",
        "plt.yticks(range(len(ft)), ft, fontsize = 12)\n",
        "cb = plt.colorbar()\n",
        "_ = cb.ax.tick_params(labelsize = 12)\n",
        "\n",
        "f = plt.figure(figsize = (4, 4))\n",
        "ft = ['rnf'] + [\"machine_failure\"]\n",
        "plt.matshow(df[ft].corr(), fignum=f.number, cmap = 'seismic')\n",
        "plt.xticks(range(len(ft)), ft, fontsize = 12, rotation = 45)\n",
        "plt.yticks(range(len(ft)), ft, fontsize = 12)\n",
        "cb = plt.colorbar()\n",
        "_ = cb.ax.tick_params(labelsize = 12)"
      ],
      "metadata": {
        "colab": {
          "base_uri": "https://localhost:8080/",
          "height": 1000
        },
        "id": "tNaOHS2jPmtW",
        "outputId": "e989b8ca-3117-421e-e7cc-798f3c45574b"
      },
      "execution_count": null,
      "outputs": [
        {
          "output_type": "display_data",
          "data": {
            "text/plain": [
              "<Figure size 288x288 with 2 Axes>"
            ],
            "image/png": "[encoded data removed]"
          },
          "metadata": {
            "needs_background": "light"
          }
        },
        {
          "output_type": "display_data",
          "data": {
            "text/plain": [
              "<Figure size 288x288 with 2 Axes>"
            ],
            "image/png": "[encoded data removed]"
          },
          "metadata": {
            "needs_background": "light"
          }
        },
        {
          "output_type": "display_data",
          "data": {
            "text/plain": [
              "<Figure size 288x288 with 2 Axes>"
            ],
            "image/png": "[encoded data removed]"
          },
          "metadata": {
            "needs_background": "light"
          }
        },
        {
          "output_type": "display_data",
          "data": {
            "text/plain": [
              "<Figure size 288x288 with 2 Axes>"
            ],
            "image/png": "[encoded data removed]"
          },
          "metadata": {
            "needs_background": "light"
          }
        },
        {
          "output_type": "display_data",
          "data": {
            "text/plain": [
              "<Figure size 288x288 with 2 Axes>"
            ],
            "image/png": "[encoded data removed]"
          },
          "metadata": {
            "needs_background": "light"
          }
        }
      ]
    },
    {
      "cell_type": "markdown",
      "source": [
        "Podemos confirmar la alta correlación entre las variables del tipo de falla y \"machine_failure\"."
      ],
      "metadata": {
        "id": "hSAG1iN_TkFX"
      }
    },
    {
      "cell_type": "markdown",
      "source": [
        "Se valida la correlación entre *features*."
      ],
      "metadata": {
        "id": "H2NVut5R54Aq"
      }
    },
    {
      "cell_type": "code",
      "source": [
        "f = plt.figure(figsize = (12, 10))\n",
        "ft = features + [\"machine_failure\"]\n",
        "plt.matshow(df[ft].corr(), fignum=f.number, cmap = 'seismic')\n",
        "plt.xticks(range(len(ft)), ft, fontsize = 12, rotation = 45)\n",
        "plt.yticks(range(len(ft)), ft, fontsize = 12)\n",
        "cb = plt.colorbar()\n",
        "_ = cb.ax.tick_params(labelsize = 12)"
      ],
      "metadata": {
        "colab": {
          "base_uri": "https://localhost:8080/",
          "height": 685
        },
        "id": "4bPWDhAH58CG",
        "outputId": "f50974cd-b63e-4350-bac9-9286818a413b"
      },
      "execution_count": null,
      "outputs": [
        {
          "output_type": "display_data",
          "data": {
            "text/plain": [
              "<Figure size 864x720 with 2 Axes>"
            ],
            "image/png": "[encoded data removed]"
          },
          "metadata": {
            "needs_background": "light"
          }
        }
      ]
    },
    {
      "cell_type": "markdown",
      "source": [
        "Se puede ver una baja correlación entre todas las *feautres*, excepto para rotational_speed y torque. Vamos a sacar a rotational_speed de la lista de *features*, ya que su información está reflejada en torque."
      ],
      "metadata": {
        "id": "tXlb75WOJ6wO"
      }
    },
    {
      "cell_type": "code",
      "source": [
        "features = ['type', 'air_temperature', 'process_temperature', 'torque', 'tool_wear']"
      ],
      "metadata": {
        "id": "WYI1a3h6KNy3"
      },
      "execution_count": null,
      "outputs": []
    },
    {
      "cell_type": "code",
      "source": [
        "X_train, X_test, Y_train, Y_test = train_test_split(df[features], df['machine_failure'], test_size=0.2, random_state=0)"
      ],
      "metadata": {
        "id": "FTk07A_8sNz0"
      },
      "execution_count": null,
      "outputs": []
    },
    {
      "cell_type": "code",
      "source": [
        "print('Tamaño del conjunto original:', df.shape[0])\n",
        "print('Tamaño del conjunto de entrenamiento:', X_train.shape[0])\n",
        "print('Tamaño del conjunto de prueba:', X_test.shape[0])"
      ],
      "metadata": {
        "colab": {
          "base_uri": "https://localhost:8080/"
        },
        "id": "IywTbBXWsW4L",
        "outputId": "ebaba715-3293-484d-bfce-069433e09a8a"
      },
      "execution_count": null,
      "outputs": [
        {
          "output_type": "stream",
          "name": "stdout",
          "text": [
            "Tamaño del conjunto original: 1305\n",
            "Tamaño del conjunto de entrenamiento: 1044\n",
            "Tamaño del conjunto de prueba: 261\n"
          ]
        }
      ]
    },
    {
      "cell_type": "code",
      "source": [
        "Y_train.value_counts(normalize = True)"
      ],
      "metadata": {
        "colab": {
          "base_uri": "https://localhost:8080/"
        },
        "id": "cI7TS38RsZ3v",
        "outputId": "1aacb509-dab4-4a0a-99d9-dd96a6f3f06a"
      },
      "execution_count": null,
      "outputs": [
        {
          "output_type": "execute_result",
          "data": {
            "text/plain": [
              "0    0.748084\n",
              "1    0.251916\n",
              "Name: machine_failure, dtype: float64"
            ]
          },
          "metadata": {},
          "execution_count": 90
        }
      ]
    },
    {
      "cell_type": "code",
      "source": [
        "Y_test.value_counts(normalize = True)"
      ],
      "metadata": {
        "colab": {
          "base_uri": "https://localhost:8080/"
        },
        "id": "yzeOUt-psapy",
        "outputId": "ade60ffe-d008-4bb2-f787-f15bc7366367"
      },
      "execution_count": null,
      "outputs": [
        {
          "output_type": "execute_result",
          "data": {
            "text/plain": [
              "0    0.708812\n",
              "1    0.291188\n",
              "Name: machine_failure, dtype: float64"
            ]
          },
          "metadata": {},
          "execution_count": 91
        }
      ]
    },
    {
      "cell_type": "markdown",
      "source": [
        "#### Árbol de Decisión"
      ],
      "metadata": {
        "id": "fEVjGzDBlX5c"
      }
    },
    {
      "cell_type": "markdown",
      "source": [
        "Vamos a hacer la prueba con el algoritmo de Árbol de Decisión. Además, no vamos a controlar la profundidad, para revisar si encuentra la adecuada para encontrar un error de entrenamiento alto y uno bajo de prueba. Dependiendo de los resultados, podremos ver si hay un overfitting (error train bajo, error test alto). Si encontramos overfitting, sabremos que debemos controlar la profundidad, haciendola menor de la que hizo solo."
      ],
      "metadata": {
        "id": "X4H48c8Kshrz"
      }
    },
    {
      "cell_type": "code",
      "source": [
        "tree_model = DecisionTreeClassifier(random_state=1)"
      ],
      "metadata": {
        "id": "wD1R-6DeskC0"
      },
      "execution_count": null,
      "outputs": []
    },
    {
      "cell_type": "code",
      "source": [
        "tree_model.fit(X_train, Y_train)"
      ],
      "metadata": {
        "colab": {
          "base_uri": "https://localhost:8080/"
        },
        "id": "0EVR-a-YMwFe",
        "outputId": "5e94b480-a98a-46e4-f9a4-087c67934341"
      },
      "execution_count": null,
      "outputs": [
        {
          "output_type": "execute_result",
          "data": {
            "text/plain": [
              "DecisionTreeClassifier(random_state=1)"
            ],
            "text/html": [
              "<style>#sk-container-id-1 {color: black;background-color: white;}#sk-container-id-1 pre{padding: 0;}#sk-container-id-1 div.sk-toggleable {background-color: white;}#sk-container-id-1 label.sk-toggleable__label {cursor: pointer;display: block;width: 100%;margin-bottom: 0;padding: 0.3em;box-sizing: border-box;text-align: center;}#sk-container-id-1 label.sk-toggleable__label-arrow:before {content: \"▸\";float: left;margin-right: 0.25em;color: #696969;}#sk-container-id-1 label.sk-toggleable__label-arrow:hover:before {color: black;}#sk-container-id-1 div.sk-estimator:hover label.sk-toggleable__label-arrow:before {color: black;}#sk-container-id-1 div.sk-toggleable__content {max-height: 0;max-width: 0;overflow: hidden;text-align: left;background-color: #f0f8ff;}#sk-container-id-1 div.sk-toggleable__content pre {margin: 0.2em;color: black;border-radius: 0.25em;background-color: #f0f8ff;}#sk-container-id-1 input.sk-toggleable__control:checked~div.sk-toggleable__content {max-height: 200px;max-width: 100%;overflow: auto;}#sk-container-id-1 input.sk-toggleable__control:checked~label.sk-toggleable__label-arrow:before {content: \"▾\";}#sk-container-id-1 div.sk-estimator input.sk-toggleable__control:checked~label.sk-toggleable__label {background-color: #d4ebff;}#sk-container-id-1 div.sk-label input.sk-toggleable__control:checked~label.sk-toggleable__label {background-color: #d4ebff;}#sk-container-id-1 input.sk-hidden--visually {border: 0;clip: rect(1px 1px 1px 1px);clip: rect(1px, 1px, 1px, 1px);height: 1px;margin: -1px;overflow: hidden;padding: 0;position: absolute;width: 1px;}#sk-container-id-1 div.sk-estimator {font-family: monospace;background-color: #f0f8ff;border: 1px dotted black;border-radius: 0.25em;box-sizing: border-box;margin-bottom: 0.5em;}#sk-container-id-1 div.sk-estimator:hover {background-color: #d4ebff;}#sk-container-id-1 div.sk-parallel-item::after {content: \"\";width: 100%;border-bottom: 1px solid gray;flex-grow: 1;}#sk-container-id-1 div.sk-label:hover label.sk-toggleable__label {background-color: #d4ebff;}#sk-container-id-1 div.sk-serial::before {content: \"\";position: absolute;border-left: 1px solid gray;box-sizing: border-box;top: 0;bottom: 0;left: 50%;z-index: 0;}#sk-container-id-1 div.sk-serial {display: flex;flex-direction: column;align-items: center;background-color: white;padding-right: 0.2em;padding-left: 0.2em;position: relative;}#sk-container-id-1 div.sk-item {position: relative;z-index: 1;}#sk-container-id-1 div.sk-parallel {display: flex;align-items: stretch;justify-content: center;background-color: white;position: relative;}#sk-container-id-1 div.sk-item::before, #sk-container-id-1 div.sk-parallel-item::before {content: \"\";position: absolute;border-left: 1px solid gray;box-sizing: border-box;top: 0;bottom: 0;left: 50%;z-index: -1;}#sk-container-id-1 div.sk-parallel-item {display: flex;flex-direction: column;z-index: 1;position: relative;background-color: white;}#sk-container-id-1 div.sk-parallel-item:first-child::after {align-self: flex-end;width: 50%;}#sk-container-id-1 div.sk-parallel-item:last-child::after {align-self: flex-start;width: 50%;}#sk-container-id-1 div.sk-parallel-item:only-child::after {width: 0;}#sk-container-id-1 div.sk-dashed-wrapped {border: 1px dashed gray;margin: 0 0.4em 0.5em 0.4em;box-sizing: border-box;padding-bottom: 0.4em;background-color: white;}#sk-container-id-1 div.sk-label label {font-family: monospace;font-weight: bold;display: inline-block;line-height: 1.2em;}#sk-container-id-1 div.sk-label-container {text-align: center;}#sk-container-id-1 div.sk-container {/* jupyter's `normalize.less` sets `[hidden] { display: none; }` but bootstrap.min.css set `[hidden] { display: none !important; }` so we also need the `!important` here to be able to override the default hidden behavior on the sphinx rendered scikit-learn.org. See: https://github.com/scikit-learn/scikit-learn/issues/21755 */display: inline-block !important;position: relative;}#sk-container-id-1 div.sk-text-repr-fallback {display: none;}</style><div id=\"sk-container-id-1\" class=\"sk-top-container\"><div class=\"sk-text-repr-fallback\"><pre>DecisionTreeClassifier(random_state=1)</pre><b>In a Jupyter environment, please rerun this cell to show the HTML representation or trust the notebook. <br />On GitHub, the HTML representation is unable to render, please try loading this page with nbviewer.org.</b></div><div class=\"sk-container\" hidden><div class=\"sk-item\"><div class=\"sk-estimator sk-toggleable\"><input class=\"sk-toggleable__control sk-hidden--visually\" id=\"sk-estimator-id-1\" type=\"checkbox\" checked><label for=\"sk-estimator-id-1\" class=\"sk-toggleable__label sk-toggleable__label-arrow\">DecisionTreeClassifier</label><div class=\"sk-toggleable__content\"><pre>DecisionTreeClassifier(random_state=1)</pre></div></div></div></div></div>"
            ]
          },
          "metadata": {},
          "execution_count": 72
        }
      ]
    },
    {
      "cell_type": "code",
      "source": [
        "tree_model.get_depth()"
      ],
      "metadata": {
        "id": "acbIcpozslhN",
        "colab": {
          "base_uri": "https://localhost:8080/"
        },
        "outputId": "dc8d61e7-46bb-445d-9c32-2801c85bf048"
      },
      "execution_count": null,
      "outputs": [
        {
          "output_type": "execute_result",
          "data": {
            "text/plain": [
              "15"
            ]
          },
          "metadata": {},
          "execution_count": 73
        }
      ]
    },
    {
      "cell_type": "markdown",
      "source": [
        "Se visualiza el árbol"
      ],
      "metadata": {
        "id": "bEQDh5VJsmNz"
      }
    },
    {
      "cell_type": "code",
      "source": [
        "fig = plt.figure(figsize = (30, 10))\n",
        "_ = tree.plot_tree(tree_model, max_depth=3, feature_names=features, filled=True, fontsize=9)"
      ],
      "metadata": {
        "id": "N7kPKjS2spLs",
        "colab": {
          "base_uri": "https://localhost:8080/"
        },
        "outputId": "ce4cec63-acda-48b8-c16b-3160cedb915d"
      },
      "execution_count": null,
      "outputs": [
        {
          "output_type": "display_data",
          "data": {
            "text/plain": [
              "<Figure size 2160x720 with 1 Axes>"
            ],
            "image/png": "[encoded data removed]"
          },
          "metadata": {
            "needs_background": "light"
          }
        }
      ]
    },
    {
      "cell_type": "code",
      "source": [
        "preds_train = tree_model.predict(X_train)\n",
        "preds_test = tree_model.predict(X_test)"
      ],
      "metadata": {
        "id": "ulyjCbmusqRe"
      },
      "execution_count": null,
      "outputs": []
    },
    {
      "cell_type": "markdown",
      "source": [
        "Podemos ver el error del modelo con Matrices de Confusión"
      ],
      "metadata": {
        "id": "yLIOicMbsrba"
      }
    },
    {
      "cell_type": "code",
      "source": [
        "cm_train = confusion_matrix(Y_train, preds_train, labels = tree_model.classes_)\n",
        "cm_train_norm = confusion_matrix(Y_train, preds_train, labels = tree_model.classes_, normalize = 'all')\n",
        "cm_test = confusion_matrix(Y_test, preds_test, labels = tree_model.classes_)\n",
        "cm_test_norm = confusion_matrix(Y_test, preds_test, labels = tree_model.classes_, normalize = 'all')\n",
        "\n",
        "fig, ((ax1, ax2), (ax3, ax4)) = plt.subplots(2, 2, figsize = (13, 10))\n",
        "ConfusionMatrixDisplay(confusion_matrix = cm_train, display_labels = tree_model.classes_).plot(ax = ax1, values_format = ',.0f')\n",
        "ConfusionMatrixDisplay(confusion_matrix = cm_train_norm, display_labels = tree_model.classes_).plot(ax = ax2, values_format = '.3f')\n",
        "ConfusionMatrixDisplay(confusion_matrix = cm_test, display_labels = tree_model.classes_).plot(ax = ax3, values_format = ',.0f')\n",
        "ConfusionMatrixDisplay(confusion_matrix = cm_test_norm, display_labels = tree_model.classes_).plot(ax = ax4, values_format = '.3f')\n",
        "\n",
        "ax1.set_title('Train')\n",
        "ax2.set_title('Train (normalized)')\n",
        "ax3.set_title('Test')\n",
        "ax4.set_title('Test (normalized)')\n",
        "plt.show()"
      ],
      "metadata": {
        "id": "dylg4C-QssgK",
        "colab": {
          "base_uri": "https://localhost:8080/"
        },
        "outputId": "5d70f9da-0a6f-46a2-b38f-4d1caf956c7f"
      },
      "execution_count": null,
      "outputs": [
        {
          "output_type": "display_data",
          "data": {
            "text/plain": [
              "<Figure size 936x720 with 8 Axes>"
            ],
            "image/png": "[encoded data removed]"
          },
          "metadata": {
            "needs_background": "light"
          }
        }
      ]
    },
    {
      "cell_type": "markdown",
      "source": [
        "Con esta matríz de confusión, podemos ver que el modelo está sacando pocos datos clasificados como Errores de Tipo I o Tipo II. Esto es un buen indicio de la calidad del modelo, ya que el porcentaje de datos mal clasificados es poco."
      ],
      "metadata": {
        "id": "QPKz4MiiPAuP"
      }
    },
    {
      "cell_type": "markdown",
      "source": [
        "Otra forma de ver el error es revisando las métricas vistas en clase para clasificación"
      ],
      "metadata": {
        "id": "Qnx2r_M-svpS"
      }
    },
    {
      "cell_type": "code",
      "source": [
        "pd.DataFrame([\n",
        "    {\n",
        "        'Train': accuracy_score(Y_train, preds_train),\n",
        "        'Test': accuracy_score(Y_test, preds_test)\n",
        "    },\n",
        "    {\n",
        "        'Train': precision_score(Y_train, preds_train),\n",
        "        'Test': precision_score(Y_test, preds_test)\n",
        "    },\n",
        "    {\n",
        "        'Train': recall_score(Y_train, preds_train),\n",
        "        'Test': recall_score(Y_test, preds_test)\n",
        "    },\n",
        "    {\n",
        "        'Train': f1_score(Y_train, preds_train),\n",
        "        'Test': f1_score(Y_test, preds_test)\n",
        "    }\n",
        "], index = ['Accuracy', 'Precision', 'Recall', 'F1'])"
      ],
      "metadata": {
        "id": "7v8RLsW1s0E7",
        "colab": {
          "base_uri": "https://localhost:8080/"
        },
        "outputId": "86121497-3f38-42cc-edc4-ae8195da86dd"
      },
      "execution_count": null,
      "outputs": [
        {
          "output_type": "execute_result",
          "data": {
            "text/plain": [
              "           Train      Test\n",
              "Accuracy     1.0  0.877395\n",
              "Precision    1.0  0.789474\n",
              "Recall       1.0  0.789474\n",
              "F1           1.0  0.789474"
            ],
            "text/html": [
              "\n",
              "  <div id=\"df-ad02a04d-bd8f-4136-85f7-e3ed43cea6bb\">\n",
              "    <div class=\"colab-df-container\">\n",
              "      <div>\n",
              "<style scoped>\n",
              "    .dataframe tbody tr th:only-of-type {\n",
              "        vertical-align: middle;\n",
              "    }\n",
              "\n",
              "    .dataframe tbody tr th {\n",
              "        vertical-align: top;\n",
              "    }\n",
              "\n",
              "    .dataframe thead th {\n",
              "        text-align: right;\n",
              "    }\n",
              "</style>\n",
              "<table border=\"1\" class=\"dataframe\">\n",
              "  <thead>\n",
              "    <tr style=\"text-align: right;\">\n",
              "      <th></th>\n",
              "      <th>Train</th>\n",
              "      <th>Test</th>\n",
              "    </tr>\n",
              "  </thead>\n",
              "  <tbody>\n",
              "    <tr>\n",
              "      <th>Accuracy</th>\n",
              "      <td>1.0</td>\n",
              "      <td>0.877395</td>\n",
              "    </tr>\n",
              "    <tr>\n",
              "      <th>Precision</th>\n",
              "      <td>1.0</td>\n",
              "      <td>0.789474</td>\n",
              "    </tr>\n",
              "    <tr>\n",
              "      <th>Recall</th>\n",
              "      <td>1.0</td>\n",
              "      <td>0.789474</td>\n",
              "    </tr>\n",
              "    <tr>\n",
              "      <th>F1</th>\n",
              "      <td>1.0</td>\n",
              "      <td>0.789474</td>\n",
              "    </tr>\n",
              "  </tbody>\n",
              "</table>\n",
              "</div>\n",
              "      <button class=\"colab-df-convert\" onclick=\"convertToInteractive('df-ad02a04d-bd8f-4136-85f7-e3ed43cea6bb')\"\n",
              "              title=\"Convert this dataframe to an interactive table.\"\n",
              "              style=\"display:none;\">\n",
              "        \n",
              "  <svg xmlns=\"http://www.w3.org/2000/svg\" height=\"24px\"viewBox=\"0 0 24 24\"\n",
              "       width=\"24px\">\n",
              "    <path d=\"M0 0h24v24H0V0z\" fill=\"none\"/>\n",
              "    <path d=\"M18.56 5.44l.94 2.06.94-2.06 2.06-.94-2.06-.94-.94-2.06-.94 2.06-2.06.94zm-11 1L8.5 8.5l.94-2.06 2.06-.94-2.06-.94L8.5 2.5l-.94 2.06-2.06.94zm10 10l.94 2.06.94-2.06 2.06-.94-2.06-.94-.94-2.06-.94 2.06-2.06.94z\"/><path d=\"M17.41 7.96l-1.37-1.37c-.4-.4-.92-.59-1.43-.59-.52 0-1.04.2-1.43.59L10.3 9.45l-7.72 7.72c-.78.78-.78 2.05 0 2.83L4 21.41c.39.39.9.59 1.41.59.51 0 1.02-.2 1.41-.59l7.78-7.78 2.81-2.81c.8-.78.8-2.07 0-2.86zM5.41 20L4 18.59l7.72-7.72 1.47 1.35L5.41 20z\"/>\n",
              "  </svg>\n",
              "      </button>\n",
              "      \n",
              "  <style>\n",
              "    .colab-df-container {\n",
              "      display:flex;\n",
              "      flex-wrap:wrap;\n",
              "      gap: 12px;\n",
              "    }\n",
              "\n",
              "    .colab-df-convert {\n",
              "      background-color: #E8F0FE;\n",
              "      border: none;\n",
              "      border-radius: 50%;\n",
              "      cursor: pointer;\n",
              "      display: none;\n",
              "      fill: #1967D2;\n",
              "      height: 32px;\n",
              "      padding: 0 0 0 0;\n",
              "      width: 32px;\n",
              "    }\n",
              "\n",
              "    .colab-df-convert:hover {\n",
              "      background-color: #E2EBFA;\n",
              "      box-shadow: 0px 1px 2px rgba(60, 64, 67, 0.3), 0px 1px 3px 1px rgba(60, 64, 67, 0.15);\n",
              "      fill: #174EA6;\n",
              "    }\n",
              "\n",
              "    [theme=dark] .colab-df-convert {\n",
              "      background-color: #3B4455;\n",
              "      fill: #D2E3FC;\n",
              "    }\n",
              "\n",
              "    [theme=dark] .colab-df-convert:hover {\n",
              "      background-color: #434B5C;\n",
              "      box-shadow: 0px 1px 3px 1px rgba(0, 0, 0, 0.15);\n",
              "      filter: drop-shadow(0px 1px 2px rgba(0, 0, 0, 0.3));\n",
              "      fill: #FFFFFF;\n",
              "    }\n",
              "  </style>\n",
              "\n",
              "      <script>\n",
              "        const buttonEl =\n",
              "          document.querySelector('#df-ad02a04d-bd8f-4136-85f7-e3ed43cea6bb button.colab-df-convert');\n",
              "        buttonEl.style.display =\n",
              "          google.colab.kernel.accessAllowed ? 'block' : 'none';\n",
              "\n",
              "        async function convertToInteractive(key) {\n",
              "          const element = document.querySelector('#df-ad02a04d-bd8f-4136-85f7-e3ed43cea6bb');\n",
              "          const dataTable =\n",
              "            await google.colab.kernel.invokeFunction('convertToInteractive',\n",
              "                                                     [key], {});\n",
              "          if (!dataTable) return;\n",
              "\n",
              "          const docLinkHtml = 'Like what you see? Visit the ' +\n",
              "            '<a target=\"_blank\" href=https://colab.research.google.com/notebooks/data_table.ipynb>data table notebook</a>'\n",
              "            + ' to learn more about interactive tables.';\n",
              "          element.innerHTML = '';\n",
              "          dataTable['output_type'] = 'display_data';\n",
              "          await google.colab.output.renderOutput(dataTable, element);\n",
              "          const docLink = document.createElement('div');\n",
              "          docLink.innerHTML = docLinkHtml;\n",
              "          element.appendChild(docLink);\n",
              "        }\n",
              "      </script>\n",
              "    </div>\n",
              "  </div>\n",
              "  "
            ]
          },
          "metadata": {},
          "execution_count": 77
        }
      ]
    },
    {
      "cell_type": "markdown",
      "source": [
        "En este caso, vemos una diferencia significativa entre porcentajes de entrenamiento y de test. Para todas las medidas, los valores de entrenamiento son mayores que los de test, confirmando que no hay **overfitting** ni **underfitting**."
      ],
      "metadata": {
        "id": "0YcGKbl9MBq7"
      }
    },
    {
      "cell_type": "markdown",
      "source": [
        "Otras conclusiones que podemos hacer son las siguientes:\n",
        "\n",
        "\n",
        "*   La exactitud nos muestra las instancias clasificadas correctamente. En este caso, hay un 100% de exactitud con la clasificación realizada por el árbol.\n",
        "*   La precisión nos muestra la fracción de predicciones positivas que efectivamente son positivas. En este caso, un 100% de instancias positivas fueron clasificadas como positivas.\n",
        "*   El recall nos muestra la fracción de predicciones positivas que se identificaron correctamente. En este caso, hay un 100% de instancias que cumplen con con su identificación.\n",
        "\n",
        "Algo que también hay que mencionar es la significativa diferencia entre porcentajes de entrenamiento y de prueba. Como el de prueba es ligeramente (la verdad no muy liegramente) menor que el de entrenamiento, puede ser un indicio de que el modelo está teniendo algunos problemas identificando observaciones en el conjunto de prueba, es decir, problemas generalizando el modelo."
      ],
      "metadata": {
        "id": "lt0rfQ4LMKrG"
      }
    },
    {
      "cell_type": "markdown",
      "source": [
        "Podemos verificar la importancia que da el árbol a cada *feature*."
      ],
      "metadata": {
        "id": "HjNbp1FctLe5"
      }
    },
    {
      "cell_type": "code",
      "source": [
        "feature_importance_df = pd.DataFrame([features, tree_model.feature_importances_]).T\n",
        "feature_importance_df.columns = ['Feature', 'Importance']\n",
        "feature_importance_df.sort_values(by = 'Importance').plot.barh(x = 'Feature', y = 'Importance', figsize = (12, 7))"
      ],
      "metadata": {
        "id": "abVPnqjOtOfr",
        "colab": {
          "base_uri": "https://localhost:8080/"
        },
        "outputId": "b936dbc3-152e-4080-deed-90417879a569"
      },
      "execution_count": null,
      "outputs": [
        {
          "output_type": "execute_result",
          "data": {
            "text/plain": [
              "<Axes: ylabel='Feature'>"
            ]
          },
          "metadata": {},
          "execution_count": 78
        },
        {
          "output_type": "display_data",
          "data": {
            "text/plain": [
              "<Figure size 864x504 with 1 Axes>"
            ],
            "image/png": "[encoded data removed]"
          },
          "metadata": {
            "needs_background": "light"
          }
        }
      ]
    },
    {
      "cell_type": "markdown",
      "source": [
        "#### Bosque Aleatorio"
      ],
      "metadata": {
        "id": "t7AS2Qgola2s"
      }
    },
    {
      "cell_type": "code",
      "source": [
        "forest_model = RandomForestClassifier(random_state=2)"
      ],
      "metadata": {
        "id": "rLe1K7JztXWz"
      },
      "execution_count": null,
      "outputs": []
    },
    {
      "cell_type": "code",
      "source": [
        "param_grid = {\n",
        "    'n_estimators': [50, 100, 150, 200],\n",
        "    'criterion': ['gini', 'entropy'],\n",
        "    'max_depth': [3, 4, 5, 6],\n",
        "    'min_samples_split': [2, 3, 4, 5]\n",
        "}"
      ],
      "metadata": {
        "id": "xfhlu4RotYNU"
      },
      "execution_count": null,
      "outputs": []
    },
    {
      "cell_type": "code",
      "source": [
        "combinations = 1\n",
        "for k, v in param_grid.items():\n",
        "    combinations *= len(v)\n",
        "\n",
        "print('Total de combinaciones a validar:', combinations)"
      ],
      "metadata": {
        "id": "I9WrGmGltY3M",
        "colab": {
          "base_uri": "https://localhost:8080/"
        },
        "outputId": "e51d4696-074a-4dac-93d4-300e7edd32b4"
      },
      "execution_count": null,
      "outputs": [
        {
          "output_type": "stream",
          "name": "stdout",
          "text": [
            "Total de combinaciones a validar: 128\n"
          ]
        }
      ]
    },
    {
      "cell_type": "code",
      "source": [
        "# se va a hacer la busqueda solo sobre el 10% de las combinaciones (combinatios/10)\n",
        "grid_forest_model = RandomizedSearchCV(forest_model, param_grid, n_iter = int(combinations / 10), scoring = ['precision', 'recall', 'f1'], refit = 'f1', cv = 10, n_jobs = -1, verbose = 1)"
      ],
      "metadata": {
        "id": "-IsHPNsStZwP"
      },
      "execution_count": null,
      "outputs": []
    },
    {
      "cell_type": "code",
      "source": [
        "grid_forest_model.fit(X_train, Y_train)"
      ],
      "metadata": {
        "id": "KY55mf30tbap",
        "colab": {
          "base_uri": "https://localhost:8080/"
        },
        "outputId": "9e2fee62-146f-49e2-c2fe-a9bd9fbf3b1f"
      },
      "execution_count": null,
      "outputs": [
        {
          "output_type": "stream",
          "name": "stdout",
          "text": [
            "Fitting 10 folds for each of 12 candidates, totalling 120 fits\n"
          ]
        },
        {
          "output_type": "error",
          "ename": "KeyboardInterrupt",
          "evalue": "ignored",
          "traceback": [
            "\u001b[0;31m---------------------------------------------------------------------------\u001b[0m",
            "\u001b[0;31mKeyboardInterrupt\u001b[0m                         Traceback (most recent call last)",
            "\u001b[0;32m<ipython-input-83-0c9df7211092>\u001b[0m in \u001b[0;36m<module>\u001b[0;34m\u001b[0m\n\u001b[0;32m----> 1\u001b[0;31m \u001b[0mgrid_forest_model\u001b[0m\u001b[0;34m.\u001b[0m\u001b[0mfit\u001b[0m\u001b[0;34m(\u001b[0m\u001b[0mX_train\u001b[0m\u001b[0;34m,\u001b[0m \u001b[0mY_train\u001b[0m\u001b[0;34m)\u001b[0m\u001b[0;34m\u001b[0m\u001b[0;34m\u001b[0m\u001b[0m\n\u001b[0m",
            "\u001b[0;32m/usr/local/lib/python3.9/dist-packages/sklearn/model_selection/_search.py\u001b[0m in \u001b[0;36mfit\u001b[0;34m(self, X, y, groups, **fit_params)\u001b[0m\n\u001b[1;32m    872\u001b[0m                 \u001b[0;32mreturn\u001b[0m \u001b[0mresults\u001b[0m\u001b[0;34m\u001b[0m\u001b[0;34m\u001b[0m\u001b[0m\n\u001b[1;32m    873\u001b[0m \u001b[0;34m\u001b[0m\u001b[0m\n\u001b[0;32m--> 874\u001b[0;31m             \u001b[0mself\u001b[0m\u001b[0;34m.\u001b[0m\u001b[0m_run_search\u001b[0m\u001b[0;34m(\u001b[0m\u001b[0mevaluate_candidates\u001b[0m\u001b[0;34m)\u001b[0m\u001b[0;34m\u001b[0m\u001b[0;34m\u001b[0m\u001b[0m\n\u001b[0m\u001b[1;32m    875\u001b[0m \u001b[0;34m\u001b[0m\u001b[0m\n\u001b[1;32m    876\u001b[0m             \u001b[0;31m# multimetric is determined here because in the case of a callable\u001b[0m\u001b[0;34m\u001b[0m\u001b[0;34m\u001b[0m\u001b[0m\n",
            "\u001b[0;32m/usr/local/lib/python3.9/dist-packages/sklearn/model_selection/_search.py\u001b[0m in \u001b[0;36m_run_search\u001b[0;34m(self, evaluate_candidates)\u001b[0m\n\u001b[1;32m   1766\u001b[0m     \u001b[0;32mdef\u001b[0m \u001b[0m_run_search\u001b[0m\u001b[0;34m(\u001b[0m\u001b[0mself\u001b[0m\u001b[0;34m,\u001b[0m \u001b[0mevaluate_candidates\u001b[0m\u001b[0;34m)\u001b[0m\u001b[0;34m:\u001b[0m\u001b[0;34m\u001b[0m\u001b[0;34m\u001b[0m\u001b[0m\n\u001b[1;32m   1767\u001b[0m         \u001b[0;34m\"\"\"Search n_iter candidates from param_distributions\"\"\"\u001b[0m\u001b[0;34m\u001b[0m\u001b[0;34m\u001b[0m\u001b[0m\n\u001b[0;32m-> 1768\u001b[0;31m         evaluate_candidates(\n\u001b[0m\u001b[1;32m   1769\u001b[0m             ParameterSampler(\n\u001b[1;32m   1770\u001b[0m                 \u001b[0mself\u001b[0m\u001b[0;34m.\u001b[0m\u001b[0mparam_distributions\u001b[0m\u001b[0;34m,\u001b[0m \u001b[0mself\u001b[0m\u001b[0;34m.\u001b[0m\u001b[0mn_iter\u001b[0m\u001b[0;34m,\u001b[0m \u001b[0mrandom_state\u001b[0m\u001b[0;34m=\u001b[0m\u001b[0mself\u001b[0m\u001b[0;34m.\u001b[0m\u001b[0mrandom_state\u001b[0m\u001b[0;34m\u001b[0m\u001b[0;34m\u001b[0m\u001b[0m\n",
            "\u001b[0;32m/usr/local/lib/python3.9/dist-packages/sklearn/model_selection/_search.py\u001b[0m in \u001b[0;36mevaluate_candidates\u001b[0;34m(candidate_params, cv, more_results)\u001b[0m\n\u001b[1;32m    819\u001b[0m                     )\n\u001b[1;32m    820\u001b[0m \u001b[0;34m\u001b[0m\u001b[0m\n\u001b[0;32m--> 821\u001b[0;31m                 out = parallel(\n\u001b[0m\u001b[1;32m    822\u001b[0m                     delayed(_fit_and_score)(\n\u001b[1;32m    823\u001b[0m                         \u001b[0mclone\u001b[0m\u001b[0;34m(\u001b[0m\u001b[0mbase_estimator\u001b[0m\u001b[0;34m)\u001b[0m\u001b[0;34m,\u001b[0m\u001b[0;34m\u001b[0m\u001b[0;34m\u001b[0m\u001b[0m\n",
            "\u001b[0;32m/usr/local/lib/python3.9/dist-packages/sklearn/utils/parallel.py\u001b[0m in \u001b[0;36m__call__\u001b[0;34m(self, iterable)\u001b[0m\n\u001b[1;32m     61\u001b[0m             \u001b[0;32mfor\u001b[0m \u001b[0mdelayed_func\u001b[0m\u001b[0;34m,\u001b[0m \u001b[0margs\u001b[0m\u001b[0;34m,\u001b[0m \u001b[0mkwargs\u001b[0m \u001b[0;32min\u001b[0m \u001b[0miterable\u001b[0m\u001b[0;34m\u001b[0m\u001b[0;34m\u001b[0m\u001b[0m\n\u001b[1;32m     62\u001b[0m         )\n\u001b[0;32m---> 63\u001b[0;31m         \u001b[0;32mreturn\u001b[0m \u001b[0msuper\u001b[0m\u001b[0;34m(\u001b[0m\u001b[0;34m)\u001b[0m\u001b[0;34m.\u001b[0m\u001b[0m__call__\u001b[0m\u001b[0;34m(\u001b[0m\u001b[0miterable_with_config\u001b[0m\u001b[0;34m)\u001b[0m\u001b[0;34m\u001b[0m\u001b[0;34m\u001b[0m\u001b[0m\n\u001b[0m\u001b[1;32m     64\u001b[0m \u001b[0;34m\u001b[0m\u001b[0m\n\u001b[1;32m     65\u001b[0m \u001b[0;34m\u001b[0m\u001b[0m\n",
            "\u001b[0;32m/usr/local/lib/python3.9/dist-packages/joblib/parallel.py\u001b[0m in \u001b[0;36m__call__\u001b[0;34m(self, iterable)\u001b[0m\n\u001b[1;32m   1059\u001b[0m \u001b[0;34m\u001b[0m\u001b[0m\n\u001b[1;32m   1060\u001b[0m             \u001b[0;32mwith\u001b[0m \u001b[0mself\u001b[0m\u001b[0;34m.\u001b[0m\u001b[0m_backend\u001b[0m\u001b[0;34m.\u001b[0m\u001b[0mretrieval_context\u001b[0m\u001b[0;34m(\u001b[0m\u001b[0;34m)\u001b[0m\u001b[0;34m:\u001b[0m\u001b[0;34m\u001b[0m\u001b[0;34m\u001b[0m\u001b[0m\n\u001b[0;32m-> 1061\u001b[0;31m                 \u001b[0mself\u001b[0m\u001b[0;34m.\u001b[0m\u001b[0mretrieve\u001b[0m\u001b[0;34m(\u001b[0m\u001b[0;34m)\u001b[0m\u001b[0;34m\u001b[0m\u001b[0;34m\u001b[0m\u001b[0m\n\u001b[0m\u001b[1;32m   1062\u001b[0m             \u001b[0;31m# Make sure that we get a last message telling us we are done\u001b[0m\u001b[0;34m\u001b[0m\u001b[0;34m\u001b[0m\u001b[0m\n\u001b[1;32m   1063\u001b[0m             \u001b[0melapsed_time\u001b[0m \u001b[0;34m=\u001b[0m \u001b[0mtime\u001b[0m\u001b[0;34m.\u001b[0m\u001b[0mtime\u001b[0m\u001b[0;34m(\u001b[0m\u001b[0;34m)\u001b[0m \u001b[0;34m-\u001b[0m \u001b[0mself\u001b[0m\u001b[0;34m.\u001b[0m\u001b[0m_start_time\u001b[0m\u001b[0;34m\u001b[0m\u001b[0;34m\u001b[0m\u001b[0m\n",
            "\u001b[0;32m/usr/local/lib/python3.9/dist-packages/joblib/parallel.py\u001b[0m in \u001b[0;36mretrieve\u001b[0;34m(self)\u001b[0m\n\u001b[1;32m    936\u001b[0m             \u001b[0;32mtry\u001b[0m\u001b[0;34m:\u001b[0m\u001b[0;34m\u001b[0m\u001b[0;34m\u001b[0m\u001b[0m\n\u001b[1;32m    937\u001b[0m                 \u001b[0;32mif\u001b[0m \u001b[0mgetattr\u001b[0m\u001b[0;34m(\u001b[0m\u001b[0mself\u001b[0m\u001b[0;34m.\u001b[0m\u001b[0m_backend\u001b[0m\u001b[0;34m,\u001b[0m \u001b[0;34m'supports_timeout'\u001b[0m\u001b[0;34m,\u001b[0m \u001b[0;32mFalse\u001b[0m\u001b[0;34m)\u001b[0m\u001b[0;34m:\u001b[0m\u001b[0;34m\u001b[0m\u001b[0;34m\u001b[0m\u001b[0m\n\u001b[0;32m--> 938\u001b[0;31m                     \u001b[0mself\u001b[0m\u001b[0;34m.\u001b[0m\u001b[0m_output\u001b[0m\u001b[0;34m.\u001b[0m\u001b[0mextend\u001b[0m\u001b[0;34m(\u001b[0m\u001b[0mjob\u001b[0m\u001b[0;34m.\u001b[0m\u001b[0mget\u001b[0m\u001b[0;34m(\u001b[0m\u001b[0mtimeout\u001b[0m\u001b[0;34m=\u001b[0m\u001b[0mself\u001b[0m\u001b[0;34m.\u001b[0m\u001b[0mtimeout\u001b[0m\u001b[0;34m)\u001b[0m\u001b[0;34m)\u001b[0m\u001b[0;34m\u001b[0m\u001b[0;34m\u001b[0m\u001b[0m\n\u001b[0m\u001b[1;32m    939\u001b[0m                 \u001b[0;32melse\u001b[0m\u001b[0;34m:\u001b[0m\u001b[0;34m\u001b[0m\u001b[0;34m\u001b[0m\u001b[0m\n\u001b[1;32m    940\u001b[0m                     \u001b[0mself\u001b[0m\u001b[0;34m.\u001b[0m\u001b[0m_output\u001b[0m\u001b[0;34m.\u001b[0m\u001b[0mextend\u001b[0m\u001b[0;34m(\u001b[0m\u001b[0mjob\u001b[0m\u001b[0;34m.\u001b[0m\u001b[0mget\u001b[0m\u001b[0;34m(\u001b[0m\u001b[0;34m)\u001b[0m\u001b[0;34m)\u001b[0m\u001b[0;34m\u001b[0m\u001b[0;34m\u001b[0m\u001b[0m\n",
            "\u001b[0;32m/usr/local/lib/python3.9/dist-packages/joblib/_parallel_backends.py\u001b[0m in \u001b[0;36mwrap_future_result\u001b[0;34m(future, timeout)\u001b[0m\n\u001b[1;32m    540\u001b[0m         AsyncResults.get from multiprocessing.\"\"\"\n\u001b[1;32m    541\u001b[0m         \u001b[0;32mtry\u001b[0m\u001b[0;34m:\u001b[0m\u001b[0;34m\u001b[0m\u001b[0;34m\u001b[0m\u001b[0m\n\u001b[0;32m--> 542\u001b[0;31m             \u001b[0;32mreturn\u001b[0m \u001b[0mfuture\u001b[0m\u001b[0;34m.\u001b[0m\u001b[0mresult\u001b[0m\u001b[0;34m(\u001b[0m\u001b[0mtimeout\u001b[0m\u001b[0;34m=\u001b[0m\u001b[0mtimeout\u001b[0m\u001b[0;34m)\u001b[0m\u001b[0;34m\u001b[0m\u001b[0;34m\u001b[0m\u001b[0m\n\u001b[0m\u001b[1;32m    543\u001b[0m         \u001b[0;32mexcept\u001b[0m \u001b[0mCfTimeoutError\u001b[0m \u001b[0;32mas\u001b[0m \u001b[0me\u001b[0m\u001b[0;34m:\u001b[0m\u001b[0;34m\u001b[0m\u001b[0;34m\u001b[0m\u001b[0m\n\u001b[1;32m    544\u001b[0m             \u001b[0;32mraise\u001b[0m \u001b[0mTimeoutError\u001b[0m \u001b[0;32mfrom\u001b[0m \u001b[0me\u001b[0m\u001b[0;34m\u001b[0m\u001b[0;34m\u001b[0m\u001b[0m\n",
            "\u001b[0;32m/usr/lib/python3.9/concurrent/futures/_base.py\u001b[0m in \u001b[0;36mresult\u001b[0;34m(self, timeout)\u001b[0m\n\u001b[1;32m    439\u001b[0m                     \u001b[0;32mreturn\u001b[0m \u001b[0mself\u001b[0m\u001b[0;34m.\u001b[0m\u001b[0m__get_result\u001b[0m\u001b[0;34m(\u001b[0m\u001b[0;34m)\u001b[0m\u001b[0;34m\u001b[0m\u001b[0;34m\u001b[0m\u001b[0m\n\u001b[1;32m    440\u001b[0m \u001b[0;34m\u001b[0m\u001b[0m\n\u001b[0;32m--> 441\u001b[0;31m                 \u001b[0mself\u001b[0m\u001b[0;34m.\u001b[0m\u001b[0m_condition\u001b[0m\u001b[0;34m.\u001b[0m\u001b[0mwait\u001b[0m\u001b[0;34m(\u001b[0m\u001b[0mtimeout\u001b[0m\u001b[0;34m)\u001b[0m\u001b[0;34m\u001b[0m\u001b[0;34m\u001b[0m\u001b[0m\n\u001b[0m\u001b[1;32m    442\u001b[0m \u001b[0;34m\u001b[0m\u001b[0m\n\u001b[1;32m    443\u001b[0m                 \u001b[0;32mif\u001b[0m \u001b[0mself\u001b[0m\u001b[0;34m.\u001b[0m\u001b[0m_state\u001b[0m \u001b[0;32min\u001b[0m \u001b[0;34m[\u001b[0m\u001b[0mCANCELLED\u001b[0m\u001b[0;34m,\u001b[0m \u001b[0mCANCELLED_AND_NOTIFIED\u001b[0m\u001b[0;34m]\u001b[0m\u001b[0;34m:\u001b[0m\u001b[0;34m\u001b[0m\u001b[0;34m\u001b[0m\u001b[0m\n",
            "\u001b[0;32m/usr/lib/python3.9/threading.py\u001b[0m in \u001b[0;36mwait\u001b[0;34m(self, timeout)\u001b[0m\n\u001b[1;32m    310\u001b[0m         \u001b[0;32mtry\u001b[0m\u001b[0;34m:\u001b[0m    \u001b[0;31m# restore state no matter what (e.g., KeyboardInterrupt)\u001b[0m\u001b[0;34m\u001b[0m\u001b[0;34m\u001b[0m\u001b[0m\n\u001b[1;32m    311\u001b[0m             \u001b[0;32mif\u001b[0m \u001b[0mtimeout\u001b[0m \u001b[0;32mis\u001b[0m \u001b[0;32mNone\u001b[0m\u001b[0;34m:\u001b[0m\u001b[0;34m\u001b[0m\u001b[0;34m\u001b[0m\u001b[0m\n\u001b[0;32m--> 312\u001b[0;31m                 \u001b[0mwaiter\u001b[0m\u001b[0;34m.\u001b[0m\u001b[0macquire\u001b[0m\u001b[0;34m(\u001b[0m\u001b[0;34m)\u001b[0m\u001b[0;34m\u001b[0m\u001b[0;34m\u001b[0m\u001b[0m\n\u001b[0m\u001b[1;32m    313\u001b[0m                 \u001b[0mgotit\u001b[0m \u001b[0;34m=\u001b[0m \u001b[0;32mTrue\u001b[0m\u001b[0;34m\u001b[0m\u001b[0;34m\u001b[0m\u001b[0m\n\u001b[1;32m    314\u001b[0m             \u001b[0;32melse\u001b[0m\u001b[0;34m:\u001b[0m\u001b[0;34m\u001b[0m\u001b[0;34m\u001b[0m\u001b[0m\n",
            "\u001b[0;31mKeyboardInterrupt\u001b[0m: "
          ]
        }
      ]
    },
    {
      "cell_type": "code",
      "source": [
        "cv_results_df = pd.DataFrame(grid_forest_model.cv_results_)"
      ],
      "metadata": {
        "id": "XvDHNPattcfp"
      },
      "execution_count": null,
      "outputs": []
    },
    {
      "cell_type": "code",
      "source": [
        "cv_results_df"
      ],
      "metadata": {
        "id": "J-27s_iDtdlC"
      },
      "execution_count": null,
      "outputs": []
    },
    {
      "cell_type": "code",
      "source": [
        "grid_forest_model.best_params_"
      ],
      "metadata": {
        "id": "TLQ_wLXVtfcF"
      },
      "execution_count": null,
      "outputs": []
    },
    {
      "cell_type": "code",
      "source": [
        "grid_forest_model.best_score_"
      ],
      "metadata": {
        "id": "Jw3QJLyqtgLF"
      },
      "execution_count": null,
      "outputs": []
    },
    {
      "cell_type": "code",
      "source": [
        "grid_forest_model.best_estimator_"
      ],
      "metadata": {
        "id": "IfMmIoVntiw3"
      },
      "execution_count": null,
      "outputs": []
    },
    {
      "cell_type": "markdown",
      "source": [
        "Hacemos un predict del modelo con mejores estimadores"
      ],
      "metadata": {
        "id": "wd5PK4NgtklM"
      }
    },
    {
      "cell_type": "code",
      "source": [
        "preds_train = grid_forest_model.best_estimator_.predict(X_train)\n",
        "preds_test = grid_forest_model.best_estimator_.predict(X_test)"
      ],
      "metadata": {
        "id": "iJKFX5GYtotb"
      },
      "execution_count": null,
      "outputs": []
    },
    {
      "cell_type": "code",
      "source": [
        "cm_train = confusion_matrix(Y_train, preds_train, labels = tree_model.classes_)\n",
        "cm_train_norm = confusion_matrix(Y_train, preds_train, labels = tree_model.classes_, normalize = 'all')\n",
        "cm_test = confusion_matrix(Y_test, preds_test, labels = tree_model.classes_)\n",
        "cm_test_norm = confusion_matrix(Y_test, preds_test, labels = tree_model.classes_, normalize = 'all')\n",
        "\n",
        "fig, ((ax1, ax2), (ax3, ax4)) = plt.subplots(2, 2, figsize = (13, 10))\n",
        "ConfusionMatrixDisplay(confusion_matrix = cm_train, display_labels = tree_model.classes_).plot(ax = ax1, values_format = ',.0f')\n",
        "ConfusionMatrixDisplay(confusion_matrix = cm_train_norm, display_labels = tree_model.classes_).plot(ax = ax2, values_format = '.3f')\n",
        "ConfusionMatrixDisplay(confusion_matrix = cm_test, display_labels = tree_model.classes_).plot(ax = ax3, values_format = ',.0f')\n",
        "ConfusionMatrixDisplay(confusion_matrix = cm_test_norm, display_labels = tree_model.classes_).plot(ax = ax4, values_format = '.3f')\n",
        "\n",
        "ax1.set_title('Train+Val')\n",
        "ax2.set_title('Train+Val (normalized)')\n",
        "ax3.set_title('Test')\n",
        "ax4.set_title('Test (normalized)')\n",
        "plt.show()"
      ],
      "metadata": {
        "id": "LFdjT3T2tpQd"
      },
      "execution_count": null,
      "outputs": []
    },
    {
      "cell_type": "markdown",
      "source": [
        "Con esta matríz de confusión, podemos ver que el modelo está sacando pocos datos clasificados como Errores de Tipo I o Tipo II. Esto es un buen indicio de la calidad del modelo, ya que el porcentaje de datos mal clasificados es poco."
      ],
      "metadata": {
        "id": "IXVEdw4-Oq6u"
      }
    },
    {
      "cell_type": "markdown",
      "source": [
        "Otra forma de ver el error es revisando las métricas vistas en clase para clasificación"
      ],
      "metadata": {
        "id": "9opTolF8PIss"
      }
    },
    {
      "cell_type": "code",
      "source": [
        "pd.DataFrame([\n",
        "    {\n",
        "        'Train+Val': accuracy_score(Y_train, preds_train),\n",
        "        'Test': accuracy_score(Y_test, preds_test)\n",
        "    },\n",
        "    {\n",
        "        'Train+Val': precision_score(Y_train, preds_train),\n",
        "        'Test': precision_score(Y_test, preds_test)\n",
        "    },\n",
        "    {\n",
        "        'Train+Val': recall_score(Y_train, preds_train),\n",
        "        'Test': recall_score(Y_test, preds_test)\n",
        "    },\n",
        "    {\n",
        "        'Train+Val': f1_score(Y_train, preds_train),\n",
        "        'Test': f1_score(Y_test, preds_test)\n",
        "    }\n",
        "], index = ['Accuracy', 'Precision', 'Recall', 'F1'])"
      ],
      "metadata": {
        "id": "U724H3zOLuth"
      },
      "execution_count": null,
      "outputs": []
    },
    {
      "cell_type": "markdown",
      "source": [
        "Hay un cambio considerable en el porcentaje de error del modelo, lo que a primera vista puede no ser bueno. Pero, al ver que la diferencia entre el conjunto de entrenamiento y el conjunto de prueba es mucho menor que en el otro modelo (7%-8% en comparación a 15%-20%), podemos acercarnos a pensar que la generalización del modelo es buena. Podemos decir que ese modelo es más estable que el anterior."
      ],
      "metadata": {
        "id": "7PpekplOLyr0"
      }
    },
    {
      "cell_type": "markdown",
      "source": [
        "Aparte de todo esto, con este modelo, podemos ver la importancia de cada variable para llegar a conclusiones."
      ],
      "metadata": {
        "id": "6HrMhdwCtyqk"
      }
    },
    {
      "cell_type": "code",
      "source": [
        "best_est = grid_forest_model.best_estimator_"
      ],
      "metadata": {
        "id": "1r4cY-3-t0fg"
      },
      "execution_count": null,
      "outputs": []
    },
    {
      "cell_type": "code",
      "source": [
        "feature_importance_df = pd.DataFrame([features, best_est.feature_importances_]).T\n",
        "feature_importance_df.columns = ['Feature', 'Importance']\n",
        "feature_importance_df.sort_values(by = 'Importance').plot.barh(x = 'Feature', y = 'Importance', figsize = (12, 7))"
      ],
      "metadata": {
        "id": "3T413xZrt14e"
      },
      "execution_count": null,
      "outputs": []
    },
    {
      "cell_type": "markdown",
      "source": [
        "Como se puede ver, el torque es el aspecto más importante para definir si una máquina va a presentar fallas. Esto tiene sentido, ya que el torque es de los componentes más importantes para un carro. Este afecta directamente al rendimiento de la máquina, siendo gran parte de la posible falla.\n",
        "Le sigue el tiempo de desgaste y la temperatura del aire y del proceso."
      ],
      "metadata": {
        "id": "x4ujMTFNM3us"
      }
    },
    {
      "cell_type": "markdown",
      "source": [
        "### Machine Learning, Clustering"
      ],
      "metadata": {
        "id": "WNg8eSuCCTit"
      }
    },
    {
      "cell_type": "markdown",
      "source": [
        "#### Selección de *features*"
      ],
      "metadata": {
        "id": "FoJ4EHrGWYFP"
      }
    },
    {
      "cell_type": "markdown",
      "source": [
        "Como variables *feature*, vamos a tener en cuenta los features ya mencionados, además de los tipos de falla."
      ],
      "metadata": {
        "id": "TZwImsrZWePc"
      }
    },
    {
      "cell_type": "code",
      "source": [
        "features = ['type', 'air_temperature', 'process_temperature', 'torque', 'tool_wear'] + ['twf', 'hdf', 'pwf', 'osf', 'rnf']"
      ],
      "metadata": {
        "id": "psGdMUBPWdyB"
      },
      "execution_count": null,
      "outputs": []
    },
    {
      "cell_type": "code",
      "source": [
        "scaler = StandardScaler()\n",
        "X = scaler.fit_transform(df[features])"
      ],
      "metadata": {
        "id": "ARQcG05ZYIB7"
      },
      "execution_count": null,
      "outputs": []
    },
    {
      "cell_type": "code",
      "source": [
        "X.shape"
      ],
      "metadata": {
        "colab": {
          "base_uri": "https://localhost:8080/"
        },
        "id": "52FWKWqZYL98",
        "outputId": "a8b1bc8f-ad80-460d-ea0f-6ef9e2176130"
      },
      "execution_count": null,
      "outputs": [
        {
          "output_type": "execute_result",
          "data": {
            "text/plain": [
              "(1305, 10)"
            ]
          },
          "metadata": {},
          "execution_count": 210
        }
      ]
    },
    {
      "cell_type": "markdown",
      "source": [
        "#### Agrupación Jerárquica"
      ],
      "metadata": {
        "id": "ypjhBXxLPHQh"
      }
    },
    {
      "cell_type": "code",
      "source": [
        "cluster_jerarquico = AgglomerativeClustering(metric='manhattan', linkage='complete', compute_distances=True, compute_full_tree=True)"
      ],
      "metadata": {
        "id": "5gQxjgJ8PJtu"
      },
      "execution_count": null,
      "outputs": []
    },
    {
      "cell_type": "code",
      "source": [
        "df['cluster_jerarquico'] = cluster_jerarquico.fit_predict(X)"
      ],
      "metadata": {
        "id": "XhVc7-W2PWMh"
      },
      "execution_count": null,
      "outputs": []
    },
    {
      "cell_type": "code",
      "source": [
        "df['cluster_jerarquico'].value_counts().sort_values().plot.barh()"
      ],
      "metadata": {
        "colab": {
          "base_uri": "https://localhost:8080/"
        },
        "id": "DKBZD6D-PXM8",
        "outputId": "a8c015f4-b686-4220-9fad-9db290179bbe"
      },
      "execution_count": null,
      "outputs": [
        {
          "output_type": "execute_result",
          "data": {
            "text/plain": [
              "<Axes: >"
            ]
          },
          "metadata": {},
          "execution_count": 213
        },
        {
          "output_type": "display_data",
          "data": {
            "text/plain": [
              "<Figure size 432x288 with 1 Axes>"
            ],
            "image/png": "[encoded data removed]"
          },
          "metadata": {
            "needs_background": "light"
          }
        }
      ]
    },
    {
      "cell_type": "code",
      "source": [
        "columnas_info = []\n",
        "for each_feature in features:\n",
        "  columnas_info.append(df[each_feature])"
      ],
      "metadata": {
        "id": "PRuOW5jZQc7S"
      },
      "execution_count": null,
      "outputs": []
    },
    {
      "cell_type": "code",
      "source": [
        "filas = df['cluster_jerarquico']\n",
        "tab_crss_jerarquico = []\n",
        "for each_feature in columnas_info:\n",
        "  tab_crss = pd.crosstab(filas, each_feature)\n",
        "  tab_crss_jerarquico.append(tab_crss)"
      ],
      "metadata": {
        "id": "OiRiq21JQZIT"
      },
      "execution_count": null,
      "outputs": []
    },
    {
      "cell_type": "code",
      "source": [
        "fig, axes = plt.subplots(5, 1, figsize=(15, 25))\n",
        "sns.heatmap(data=tab_crss_jerarquico[0], annot=True, ax=axes[0])\n",
        "sns.boxplot(data = df, x = 'air_temperature', y = 'cluster_jerarquico', showmeans = True, orient = 'h', ax = axes[1])\n",
        "sns.boxplot(data = df, x = 'process_temperature', y = 'cluster_jerarquico', showmeans = True, orient = 'h', ax = axes[2])\n",
        "sns.boxplot(data = df, x = 'torque', y = 'cluster_jerarquico', showmeans = True, orient = 'h', ax = axes[3])\n",
        "sns.boxplot(data = df, x = 'tool_wear', y = 'cluster_jerarquico', showmeans = True, orient = 'h', ax = axes[4])"
      ],
      "metadata": {
        "colab": {
          "base_uri": "https://localhost:8080/"
        },
        "id": "jqElD8wWPmH-",
        "outputId": "54b808fa-f070-4434-d8e4-d4a82473c286"
      },
      "execution_count": null,
      "outputs": [
        {
          "output_type": "execute_result",
          "data": {
            "text/plain": [
              "<Axes: xlabel='tool_wear', ylabel='cluster_jerarquico'>"
            ]
          },
          "metadata": {},
          "execution_count": 216
        },
        {
          "output_type": "display_data",
          "data": {
            "text/plain": [
              "<Figure size 1080x1800 with 6 Axes>"
            ],
            "image/png": "[encoded data removed]"
          },
          "metadata": {
            "needs_background": "light"
          }
        }
      ]
    },
    {
      "cell_type": "markdown",
      "source": [
        "Lo mismo que antes, queremos ver los clusters según el tipo de falla."
      ],
      "metadata": {
        "id": "YpBjQWLtZpJB"
      }
    },
    {
      "cell_type": "code",
      "source": [
        "fig, axes = plt.subplots(5, 1, figsize = (15, 25))\n",
        "sns.barplot(data = df.groupby('cluster_jerarquico')['twf'].mean().to_frame().reset_index(), x = 'cluster_jerarquico', y = 'twf', ax = axes[0])\n",
        "sns.barplot(data = df.groupby('cluster_jerarquico')['hdf'].mean().to_frame().reset_index(), x = 'cluster_jerarquico', y = 'hdf', ax = axes[1])\n",
        "sns.barplot(data = df.groupby('cluster_jerarquico')['pwf'].mean().to_frame().reset_index(), x = 'cluster_jerarquico', y = 'pwf', ax = axes[2])\n",
        "sns.barplot(data = df.groupby('cluster_jerarquico')['osf'].mean().to_frame().reset_index(), x = 'cluster_jerarquico', y = 'osf', ax = axes[3])\n",
        "sns.barplot(data = df.groupby('cluster_jerarquico')['rnf'].mean().to_frame().reset_index(), x = 'cluster_jerarquico', y = 'rnf', ax = axes[4])\n",
        "plt.show()"
      ],
      "metadata": {
        "colab": {
          "base_uri": "https://localhost:8080/"
        },
        "id": "gVVoQAhSZtfq",
        "outputId": "5c85829e-b846-488c-8953-b13618f6ec03"
      },
      "execution_count": null,
      "outputs": [
        {
          "output_type": "display_data",
          "data": {
            "text/plain": [
              "<Figure size 1080x1800 with 5 Axes>"
            ],
            "image/png": "[encoded data removed]"
          },
          "metadata": {
            "needs_background": "light"
          }
        }
      ]
    },
    {
      "cell_type": "markdown",
      "source": [
        "Podemos graficarlo de otra manera (la gráfica \"ideal\" para este algoritmo)."
      ],
      "metadata": {
        "id": "ut_pfTD_SUdJ"
      }
    },
    {
      "cell_type": "code",
      "source": [
        "def plot_dendrogram(model, **kwargs):\n",
        "    # Create linkage matrix and then plot the dendrogram\n",
        "\n",
        "    # create the counts of samples under each node\n",
        "    counts = np.zeros(model.children_.shape[0])\n",
        "    n_samples = len(model.labels_)\n",
        "    for i, merge in enumerate(model.children_):\n",
        "        current_count = 0\n",
        "        for child_idx in merge:\n",
        "            if child_idx < n_samples:\n",
        "                current_count += 1  # leaf node\n",
        "            else:\n",
        "                current_count += counts[child_idx - n_samples]\n",
        "        counts[i] = current_count\n",
        "\n",
        "    linkage_matrix = np.column_stack(\n",
        "        [model.children_, model.distances_, counts]\n",
        "    ).astype(float)\n",
        "\n",
        "    # Plot the corresponding dendrogram\n",
        "    dendrogram(linkage_matrix, **kwargs)"
      ],
      "metadata": {
        "id": "ijX6PhamSaTC"
      },
      "execution_count": null,
      "outputs": []
    },
    {
      "cell_type": "code",
      "source": [
        "plt.figure(figsize = (15, 8))\n",
        "plot_dendrogram(cluster_jerarquico, truncate_mode = 'level', p = 3)\n",
        "plt.xlabel('Number of points in node (or index of point if no parenthesis).')\n",
        "plt.show()"
      ],
      "metadata": {
        "colab": {
          "base_uri": "https://localhost:8080/"
        },
        "id": "ar4QrPOwSc-U",
        "outputId": "e45dcd04-8b06-4a37-ee60-930b282e2676"
      },
      "execution_count": null,
      "outputs": [
        {
          "output_type": "display_data",
          "data": {
            "text/plain": [
              "<Figure size 1080x576 with 1 Axes>"
            ],
            "image/png": "[encoded data removed]"
          },
          "metadata": {
            "needs_background": "light"
          }
        }
      ]
    },
    {
      "cell_type": "markdown",
      "source": [
        "#### K-Means"
      ],
      "metadata": {
        "id": "bpjwbMVbCm3S"
      }
    },
    {
      "cell_type": "code",
      "source": [
        "kmeans = KMeans(n_clusters = 5, init = 'random', n_init = 1)"
      ],
      "metadata": {
        "id": "N-aMb6wTGPaT"
      },
      "execution_count": null,
      "outputs": []
    },
    {
      "cell_type": "markdown",
      "source": [
        "La selección del número de clusters no está muy justificada. Es el número que, después de *ensayo y error* dio los mejores resultados."
      ],
      "metadata": {
        "id": "_RboafJcdlwQ"
      }
    },
    {
      "cell_type": "code",
      "source": [
        "kmeans.fit(X)"
      ],
      "metadata": {
        "colab": {
          "base_uri": "https://localhost:8080/",
          "height": 75
        },
        "id": "Eh1mwaSSGQDQ",
        "outputId": "5d02a845-c0c7-4603-8e90-9ba166e5aae7"
      },
      "execution_count": null,
      "outputs": [
        {
          "output_type": "execute_result",
          "data": {
            "text/plain": [
              "KMeans(init='random', n_clusters=5, n_init=1)"
            ],
            "text/html": [
              "<style>#sk-container-id-8 {color: black;background-color: white;}#sk-container-id-8 pre{padding: 0;}#sk-container-id-8 div.sk-toggleable {background-color: white;}#sk-container-id-8 label.sk-toggleable__label {cursor: pointer;display: block;width: 100%;margin-bottom: 0;padding: 0.3em;box-sizing: border-box;text-align: center;}#sk-container-id-8 label.sk-toggleable__label-arrow:before {content: \"▸\";float: left;margin-right: 0.25em;color: #696969;}#sk-container-id-8 label.sk-toggleable__label-arrow:hover:before {color: black;}#sk-container-id-8 div.sk-estimator:hover label.sk-toggleable__label-arrow:before {color: black;}#sk-container-id-8 div.sk-toggleable__content {max-height: 0;max-width: 0;overflow: hidden;text-align: left;background-color: #f0f8ff;}#sk-container-id-8 div.sk-toggleable__content pre {margin: 0.2em;color: black;border-radius: 0.25em;background-color: #f0f8ff;}#sk-container-id-8 input.sk-toggleable__control:checked~div.sk-toggleable__content {max-height: 200px;max-width: 100%;overflow: auto;}#sk-container-id-8 input.sk-toggleable__control:checked~label.sk-toggleable__label-arrow:before {content: \"▾\";}#sk-container-id-8 div.sk-estimator input.sk-toggleable__control:checked~label.sk-toggleable__label {background-color: #d4ebff;}#sk-container-id-8 div.sk-label input.sk-toggleable__control:checked~label.sk-toggleable__label {background-color: #d4ebff;}#sk-container-id-8 input.sk-hidden--visually {border: 0;clip: rect(1px 1px 1px 1px);clip: rect(1px, 1px, 1px, 1px);height: 1px;margin: -1px;overflow: hidden;padding: 0;position: absolute;width: 1px;}#sk-container-id-8 div.sk-estimator {font-family: monospace;background-color: #f0f8ff;border: 1px dotted black;border-radius: 0.25em;box-sizing: border-box;margin-bottom: 0.5em;}#sk-container-id-8 div.sk-estimator:hover {background-color: #d4ebff;}#sk-container-id-8 div.sk-parallel-item::after {content: \"\";width: 100%;border-bottom: 1px solid gray;flex-grow: 1;}#sk-container-id-8 div.sk-label:hover label.sk-toggleable__label {background-color: #d4ebff;}#sk-container-id-8 div.sk-serial::before {content: \"\";position: absolute;border-left: 1px solid gray;box-sizing: border-box;top: 0;bottom: 0;left: 50%;z-index: 0;}#sk-container-id-8 div.sk-serial {display: flex;flex-direction: column;align-items: center;background-color: white;padding-right: 0.2em;padding-left: 0.2em;position: relative;}#sk-container-id-8 div.sk-item {position: relative;z-index: 1;}#sk-container-id-8 div.sk-parallel {display: flex;align-items: stretch;justify-content: center;background-color: white;position: relative;}#sk-container-id-8 div.sk-item::before, #sk-container-id-8 div.sk-parallel-item::before {content: \"\";position: absolute;border-left: 1px solid gray;box-sizing: border-box;top: 0;bottom: 0;left: 50%;z-index: -1;}#sk-container-id-8 div.sk-parallel-item {display: flex;flex-direction: column;z-index: 1;position: relative;background-color: white;}#sk-container-id-8 div.sk-parallel-item:first-child::after {align-self: flex-end;width: 50%;}#sk-container-id-8 div.sk-parallel-item:last-child::after {align-self: flex-start;width: 50%;}#sk-container-id-8 div.sk-parallel-item:only-child::after {width: 0;}#sk-container-id-8 div.sk-dashed-wrapped {border: 1px dashed gray;margin: 0 0.4em 0.5em 0.4em;box-sizing: border-box;padding-bottom: 0.4em;background-color: white;}#sk-container-id-8 div.sk-label label {font-family: monospace;font-weight: bold;display: inline-block;line-height: 1.2em;}#sk-container-id-8 div.sk-label-container {text-align: center;}#sk-container-id-8 div.sk-container {/* jupyter's `normalize.less` sets `[hidden] { display: none; }` but bootstrap.min.css set `[hidden] { display: none !important; }` so we also need the `!important` here to be able to override the default hidden behavior on the sphinx rendered scikit-learn.org. See: https://github.com/scikit-learn/scikit-learn/issues/21755 */display: inline-block !important;position: relative;}#sk-container-id-8 div.sk-text-repr-fallback {display: none;}</style><div id=\"sk-container-id-8\" class=\"sk-top-container\"><div class=\"sk-text-repr-fallback\"><pre>KMeans(init=&#x27;random&#x27;, n_clusters=5, n_init=1)</pre><b>In a Jupyter environment, please rerun this cell to show the HTML representation or trust the notebook. <br />On GitHub, the HTML representation is unable to render, please try loading this page with nbviewer.org.</b></div><div class=\"sk-container\" hidden><div class=\"sk-item\"><div class=\"sk-estimator sk-toggleable\"><input class=\"sk-toggleable__control sk-hidden--visually\" id=\"sk-estimator-id-8\" type=\"checkbox\" checked><label for=\"sk-estimator-id-8\" class=\"sk-toggleable__label sk-toggleable__label-arrow\">KMeans</label><div class=\"sk-toggleable__content\"><pre>KMeans(init=&#x27;random&#x27;, n_clusters=5, n_init=1)</pre></div></div></div></div></div>"
            ]
          },
          "metadata": {},
          "execution_count": 221
        }
      ]
    },
    {
      "cell_type": "code",
      "source": [
        "kmeans.n_iter_"
      ],
      "metadata": {
        "colab": {
          "base_uri": "https://localhost:8080/"
        },
        "id": "CO2pnpVLGQ06",
        "outputId": "bfd22a0c-3769-4c1f-d80b-48403cd2fca8"
      },
      "execution_count": null,
      "outputs": [
        {
          "output_type": "execute_result",
          "data": {
            "text/plain": [
              "28"
            ]
          },
          "metadata": {},
          "execution_count": 222
        }
      ]
    },
    {
      "cell_type": "code",
      "source": [
        "pd.Series(kmeans.labels_).value_counts().sort_values().plot.barh()"
      ],
      "metadata": {
        "colab": {
          "base_uri": "https://localhost:8080/",
          "height": 283
        },
        "id": "ewsrLKWaGRhm",
        "outputId": "48c75d04-3dc9-4d42-8cbf-fa79cf74c2c2"
      },
      "execution_count": null,
      "outputs": [
        {
          "output_type": "execute_result",
          "data": {
            "text/plain": [
              "<Axes: >"
            ]
          },
          "metadata": {},
          "execution_count": 223
        },
        {
          "output_type": "display_data",
          "data": {
            "text/plain": [
              "<Figure size 432x288 with 1 Axes>"
            ],
            "image/png": "[encoded data removed]"
          },
          "metadata": {
            "needs_background": "light"
          }
        }
      ]
    },
    {
      "cell_type": "code",
      "source": [
        "kmeans.cluster_centers_"
      ],
      "metadata": {
        "colab": {
          "base_uri": "https://localhost:8080/"
        },
        "id": "2lqTozirGSNr",
        "outputId": "42c35440-8fe6-4902-bf39-3f4a424698b8"
      },
      "execution_count": null,
      "outputs": [
        {
          "output_type": "execute_result",
          "data": {
            "text/plain": [
              "array([[-0.20846074, -0.14092262,  0.00928244,  1.24779664,  1.36263677,\n",
              "        -0.19114637, -0.08806729,  0.16548137,  3.50946243, -0.06201737],\n",
              "       [-0.13918369,  0.97657237,  0.87987191,  0.05242215, -0.1019359 ,\n",
              "        -0.19114637,  0.58347162, -0.2079176 , -0.28494393, -0.06201737],\n",
              "       [-0.61390408, -0.73027944, -0.70389667, -0.25418881, -0.21008997,\n",
              "        -0.19114637, -0.31086759, -0.25340895, -0.28494393, -0.06201737],\n",
              "       [-0.14485724,  0.05047235,  0.13084288, -0.26183278,  1.3058173 ,\n",
              "         4.79777384, -0.31086759, -0.2032192 , -0.05727954,  1.55663592],\n",
              "       [ 1.15818991, -0.29836753, -0.26029685, -0.06015016, -0.20055408,\n",
              "        -0.19114637, -0.29922511,  0.63443031, -0.28494393, -0.06201737]])"
            ]
          },
          "metadata": {},
          "execution_count": 224
        }
      ]
    },
    {
      "cell_type": "code",
      "source": [
        "fig, ax = plt.subplots(figsize = (10, 8))\n",
        "ax = sns.scatterplot(x = X[:,0], y = X[:,1], hue = kmeans.labels_, palette = 'tab10', size = 1, legend = False)\n",
        "ax.scatter(x = kmeans.cluster_centers_[:,0], y = kmeans.cluster_centers_[:,1], c = 'red', s = 200, marker = 'P')\n",
        "plt.show()"
      ],
      "metadata": {
        "colab": {
          "base_uri": "https://localhost:8080/",
          "height": 483
        },
        "id": "OmMoxW3VGS7J",
        "outputId": "1b31103b-f861-4902-ddfb-49f044eaeb04"
      },
      "execution_count": null,
      "outputs": [
        {
          "output_type": "display_data",
          "data": {
            "text/plain": [
              "<Figure size 720x576 with 1 Axes>"
            ],
            "image/png": "[encoded data removed]"
          },
          "metadata": {
            "needs_background": "light"
          }
        }
      ]
    },
    {
      "cell_type": "markdown",
      "source": [
        "Vamos a hacer una validación cualitativa, con la que podremos ver los clusters por *feature*."
      ],
      "metadata": {
        "id": "56vx-EWDGfyq"
      }
    },
    {
      "cell_type": "code",
      "source": [
        "df['cluster'] = kmeans.predict(X)"
      ],
      "metadata": {
        "id": "5BQQR653GpK-"
      },
      "execution_count": null,
      "outputs": []
    },
    {
      "cell_type": "code",
      "source": [
        "df['cluster'].value_counts().sort_values().plot.barh()"
      ],
      "metadata": {
        "colab": {
          "base_uri": "https://localhost:8080/",
          "height": 283
        },
        "id": "JIcZ4PyCGzm7",
        "outputId": "2adcc6bc-85d8-4ddc-9db5-0b39566c5cd7"
      },
      "execution_count": null,
      "outputs": [
        {
          "output_type": "execute_result",
          "data": {
            "text/plain": [
              "<Axes: >"
            ]
          },
          "metadata": {},
          "execution_count": 227
        },
        {
          "output_type": "display_data",
          "data": {
            "text/plain": [
              "<Figure size 432x288 with 1 Axes>"
            ],
            "image/png": "[encoded data removed]"
          },
          "metadata": {
            "needs_background": "light"
          }
        }
      ]
    },
    {
      "cell_type": "code",
      "source": [
        "fig, axes = plt.subplots(5, 1, figsize = (15, 25))\n",
        "sns.barplot(data = df.groupby('cluster')['type'].mean().to_frame().reset_index(), x = 'cluster', y = 'type', ax = axes[0])\n",
        "sns.boxplot(data = df, x = 'air_temperature', y = 'cluster', showmeans = True, orient = 'h', ax = axes[1])\n",
        "sns.boxplot(data = df, x = 'process_temperature', y = 'cluster', showmeans = True, orient = 'h', ax = axes[2])\n",
        "sns.boxplot(data = df, x = 'torque', y = 'cluster', showmeans = True, orient = 'h', ax = axes[3])\n",
        "sns.boxplot(data = df, x = 'tool_wear', y = 'cluster', showmeans = True, orient = 'h', ax = axes[4])\n",
        "plt.show()"
      ],
      "metadata": {
        "colab": {
          "base_uri": "https://localhost:8080/",
          "height": 1000
        },
        "id": "Nz6IJd7rG27l",
        "outputId": "cb183890-86cb-44e9-a08b-89b74c23fafa"
      },
      "execution_count": null,
      "outputs": [
        {
          "output_type": "display_data",
          "data": {
            "text/plain": [
              "<Figure size 1080x1800 with 5 Axes>"
            ],
            "image/png": "[encoded data removed]"
          },
          "metadata": {
            "needs_background": "light"
          }
        }
      ]
    },
    {
      "cell_type": "markdown",
      "source": [
        "Pero, en este caso, lo que más nos importa es clusters para los tipos de falla y sus características particulares."
      ],
      "metadata": {
        "id": "4p8ARARRZF2k"
      }
    },
    {
      "cell_type": "code",
      "source": [
        "fig, axes = plt.subplots(5, 1, figsize = (15, 25))\n",
        "sns.barplot(data = df.groupby('cluster')['twf'].mean().to_frame().reset_index(), x = 'cluster', y = 'twf', ax = axes[0])\n",
        "sns.barplot(data = df.groupby('cluster')['hdf'].mean().to_frame().reset_index(), x = 'cluster', y = 'hdf', ax = axes[1])\n",
        "sns.barplot(data = df.groupby('cluster')['pwf'].mean().to_frame().reset_index(), x = 'cluster', y = 'pwf', ax = axes[2])\n",
        "sns.barplot(data = df.groupby('cluster')['osf'].mean().to_frame().reset_index(), x = 'cluster', y = 'osf', ax = axes[3])\n",
        "sns.barplot(data = df.groupby('cluster')['rnf'].mean().to_frame().reset_index(), x = 'cluster', y = 'rnf', ax = axes[4])\n",
        "plt.show()"
      ],
      "metadata": {
        "colab": {
          "base_uri": "https://localhost:8080/",
          "height": 1000
        },
        "id": "hVCrVi0nZOMS",
        "outputId": "e65f613c-066d-44e8-cf82-5ec8a9b17a5b"
      },
      "execution_count": null,
      "outputs": [
        {
          "output_type": "display_data",
          "data": {
            "text/plain": [
              "<Figure size 1080x1800 with 5 Axes>"
            ],
            "image/png": "[encoded data removed]"
          },
          "metadata": {
            "needs_background": "light"
          }
        }
      ]
    },
    {
      "cell_type": "markdown",
      "source": [
        "Se pueden ver diferencias sgnificativas entre clusters:\n",
        "\n",
        "*   Sobre el fallo por desgaste (twf): Este tipo de falla se presenta más con máquinas con tiempo de desgaste muy altos (210) y rangos de temperatura altos (298-302).\n",
        "*   Sobre el fallo por disipación de calor (hdf): Este tipo de falla se presenta más con máquinas con temperaturas altas (310) y rango de tiempo de desgaste grande (50-150).\n",
        "*   Sobre el fallo por energía insuficiente (pwf): Este tipo de falla se presenta más con máquinas con características entre tiempo de desgaste, torque, y temperaturas altas. Para este tipo, todas las características tienen rangos grandes que llegan a valores mu altos. Este se debe a que este fallo está presente en todos los clusters.\n",
        "*   Sobre el fallo por uso contínuo excesivo (osf): Este tipo de falla se presenta más con máquinas con tiempo de desgaste, torque y temperaturas altos.\n",
        "*   Sobre otros tipos de fallas, podemos ver que tienen características más cercanas a las de el fallo por desgaste, es decir, tiempo de descarte altos y temperatura grandes.\n",
        "\n",
        "Algunos aspectos predominantes entre fallas es, por ejemplo, el fallo por desgaste tiene tiempo de desgaste mayor al de cualquier otro fallo. El rango de tempertaturas del fallo por disipación de calor es mayor al de otras fallas.El torque del tipo de falla por contínuo excesivo es mayor al de cualquier otro tipo de falla.\n",
        "\n"
      ],
      "metadata": {
        "id": "s_QyAxvEd8Z9"
      }
    }
  ]
}